{
 "cells": [
  {
   "cell_type": "markdown",
   "metadata": {},
   "source": [
    "# Customer Churn Analysis Project"
   ]
  },
  {
   "cell_type": "markdown",
   "metadata": {},
   "source": [
    "## Problem statement "
   ]
  },
  {
   "cell_type": "markdown",
   "metadata": {},
   "source": [
    "Customer churn is when a company’s customers stop doing business with that company. Businesses are very keen on measuring churn because keeping an existing customer is far less expensive than acquiring a new customer. New business involves working leads through a sales funnel, using marketing and sales budgets to gain additional customers. Existing customers will often have a higher volume of service consumption and can generate additional customer referrals.\n",
    "\n",
    "Customer retention can be achieved with good customer service and products. But the most effective way for a company to prevent attrition of customers is to truly know them. The vast volumes of data collected about customers can be used to build churn prediction models. Knowing who is most likely to defect means that a company can prioritise focused marketing efforts on that subset of their customer base.\n",
    "\n",
    "Preventing customer churn is critically important to the telecommunications sector, as the barriers to entry for switching services are so low. \n",
    "\n",
    "You will examine customer data from IBM Sample Data Sets with the aim of building and comparing several customer churn prediction models. "
   ]
  },
  {
   "cell_type": "markdown",
   "metadata": {},
   "source": [
    "## Importing the required libraries"
   ]
  },
  {
   "cell_type": "code",
   "execution_count": 1,
   "metadata": {},
   "outputs": [],
   "source": [
    "import pandas as pd\n",
    "import numpy as np\n",
    "import matplotlib.pyplot as plt\n",
    "import seaborn as sns\n",
    "from sklearn.preprocessing import LabelEncoder\n",
    "from sklearn.model_selection import train_test_split\n",
    "from sklearn.linear_model import LogisticRegression\n",
    "from sklearn.tree import DecisionTreeClassifier\n",
    "from sklearn.ensemble import RandomForestClassifier\n",
    "from sklearn.svm import SVC\n",
    "from sklearn.ensemble import AdaBoostClassifier\n",
    "from sklearn.ensemble import GradientBoostingClassifier\n",
    "from sklearn.neighbors import KNeighborsClassifier\n",
    "from sklearn.metrics import accuracy_score\n",
    "from sklearn.metrics import confusion_matrix,classification_report\n",
    "from sklearn.model_selection import cross_val_score\n",
    "from sklearn.model_selection import GridSearchCV\n",
    "from sklearn.metrics import roc_auc_score\n",
    "from sklearn.metrics import roc_curve\n",
    "import warnings \n",
    "warnings.filterwarnings('ignore')"
   ]
  },
  {
   "cell_type": "markdown",
   "metadata": {},
   "source": [
    "## The Data"
   ]
  },
  {
   "cell_type": "markdown",
   "metadata": {},
   "source": [
    "Loading the data by reading the csv file as data frame"
   ]
  },
  {
   "cell_type": "code",
   "execution_count": 2,
   "metadata": {},
   "outputs": [],
   "source": [
    "df=pd.read_csv('Telecom_customer_churn.csv')"
   ]
  },
  {
   "cell_type": "code",
   "execution_count": 3,
   "metadata": {},
   "outputs": [
    {
     "data": {
      "text/plain": [
       "(7043, 21)"
      ]
     },
     "execution_count": 3,
     "metadata": {},
     "output_type": "execute_result"
    }
   ],
   "source": [
    "#checking dimension of dataframe\n",
    "df.shape"
   ]
  },
  {
   "cell_type": "markdown",
   "metadata": {},
   "source": [
    "we have  rowsa and 21 columns in our dataframe"
   ]
  },
  {
   "cell_type": "code",
   "execution_count": 4,
   "metadata": {},
   "outputs": [],
   "source": [
    "pd.set_option('display.max_columns',None)"
   ]
  },
  {
   "cell_type": "code",
   "execution_count": 5,
   "metadata": {},
   "outputs": [
    {
     "data": {
      "text/html": [
       "<div>\n",
       "<style scoped>\n",
       "    .dataframe tbody tr th:only-of-type {\n",
       "        vertical-align: middle;\n",
       "    }\n",
       "\n",
       "    .dataframe tbody tr th {\n",
       "        vertical-align: top;\n",
       "    }\n",
       "\n",
       "    .dataframe thead th {\n",
       "        text-align: right;\n",
       "    }\n",
       "</style>\n",
       "<table border=\"1\" class=\"dataframe\">\n",
       "  <thead>\n",
       "    <tr style=\"text-align: right;\">\n",
       "      <th></th>\n",
       "      <th>customerID</th>\n",
       "      <th>gender</th>\n",
       "      <th>SeniorCitizen</th>\n",
       "      <th>Partner</th>\n",
       "      <th>Dependents</th>\n",
       "      <th>tenure</th>\n",
       "      <th>PhoneService</th>\n",
       "      <th>MultipleLines</th>\n",
       "      <th>InternetService</th>\n",
       "      <th>OnlineSecurity</th>\n",
       "      <th>OnlineBackup</th>\n",
       "      <th>DeviceProtection</th>\n",
       "      <th>TechSupport</th>\n",
       "      <th>StreamingTV</th>\n",
       "      <th>StreamingMovies</th>\n",
       "      <th>Contract</th>\n",
       "      <th>PaperlessBilling</th>\n",
       "      <th>PaymentMethod</th>\n",
       "      <th>MonthlyCharges</th>\n",
       "      <th>TotalCharges</th>\n",
       "      <th>Churn</th>\n",
       "    </tr>\n",
       "  </thead>\n",
       "  <tbody>\n",
       "    <tr>\n",
       "      <th>0</th>\n",
       "      <td>7590-VHVEG</td>\n",
       "      <td>Female</td>\n",
       "      <td>0</td>\n",
       "      <td>Yes</td>\n",
       "      <td>No</td>\n",
       "      <td>1</td>\n",
       "      <td>No</td>\n",
       "      <td>No phone service</td>\n",
       "      <td>DSL</td>\n",
       "      <td>No</td>\n",
       "      <td>Yes</td>\n",
       "      <td>No</td>\n",
       "      <td>No</td>\n",
       "      <td>No</td>\n",
       "      <td>No</td>\n",
       "      <td>Month-to-month</td>\n",
       "      <td>Yes</td>\n",
       "      <td>Electronic check</td>\n",
       "      <td>29.85</td>\n",
       "      <td>29.85</td>\n",
       "      <td>No</td>\n",
       "    </tr>\n",
       "    <tr>\n",
       "      <th>1</th>\n",
       "      <td>5575-GNVDE</td>\n",
       "      <td>Male</td>\n",
       "      <td>0</td>\n",
       "      <td>No</td>\n",
       "      <td>No</td>\n",
       "      <td>34</td>\n",
       "      <td>Yes</td>\n",
       "      <td>No</td>\n",
       "      <td>DSL</td>\n",
       "      <td>Yes</td>\n",
       "      <td>No</td>\n",
       "      <td>Yes</td>\n",
       "      <td>No</td>\n",
       "      <td>No</td>\n",
       "      <td>No</td>\n",
       "      <td>One year</td>\n",
       "      <td>No</td>\n",
       "      <td>Mailed check</td>\n",
       "      <td>56.95</td>\n",
       "      <td>1889.5</td>\n",
       "      <td>No</td>\n",
       "    </tr>\n",
       "    <tr>\n",
       "      <th>2</th>\n",
       "      <td>3668-QPYBK</td>\n",
       "      <td>Male</td>\n",
       "      <td>0</td>\n",
       "      <td>No</td>\n",
       "      <td>No</td>\n",
       "      <td>2</td>\n",
       "      <td>Yes</td>\n",
       "      <td>No</td>\n",
       "      <td>DSL</td>\n",
       "      <td>Yes</td>\n",
       "      <td>Yes</td>\n",
       "      <td>No</td>\n",
       "      <td>No</td>\n",
       "      <td>No</td>\n",
       "      <td>No</td>\n",
       "      <td>Month-to-month</td>\n",
       "      <td>Yes</td>\n",
       "      <td>Mailed check</td>\n",
       "      <td>53.85</td>\n",
       "      <td>108.15</td>\n",
       "      <td>Yes</td>\n",
       "    </tr>\n",
       "    <tr>\n",
       "      <th>3</th>\n",
       "      <td>7795-CFOCW</td>\n",
       "      <td>Male</td>\n",
       "      <td>0</td>\n",
       "      <td>No</td>\n",
       "      <td>No</td>\n",
       "      <td>45</td>\n",
       "      <td>No</td>\n",
       "      <td>No phone service</td>\n",
       "      <td>DSL</td>\n",
       "      <td>Yes</td>\n",
       "      <td>No</td>\n",
       "      <td>Yes</td>\n",
       "      <td>Yes</td>\n",
       "      <td>No</td>\n",
       "      <td>No</td>\n",
       "      <td>One year</td>\n",
       "      <td>No</td>\n",
       "      <td>Bank transfer (automatic)</td>\n",
       "      <td>42.30</td>\n",
       "      <td>1840.75</td>\n",
       "      <td>No</td>\n",
       "    </tr>\n",
       "    <tr>\n",
       "      <th>4</th>\n",
       "      <td>9237-HQITU</td>\n",
       "      <td>Female</td>\n",
       "      <td>0</td>\n",
       "      <td>No</td>\n",
       "      <td>No</td>\n",
       "      <td>2</td>\n",
       "      <td>Yes</td>\n",
       "      <td>No</td>\n",
       "      <td>Fiber optic</td>\n",
       "      <td>No</td>\n",
       "      <td>No</td>\n",
       "      <td>No</td>\n",
       "      <td>No</td>\n",
       "      <td>No</td>\n",
       "      <td>No</td>\n",
       "      <td>Month-to-month</td>\n",
       "      <td>Yes</td>\n",
       "      <td>Electronic check</td>\n",
       "      <td>70.70</td>\n",
       "      <td>151.65</td>\n",
       "      <td>Yes</td>\n",
       "    </tr>\n",
       "  </tbody>\n",
       "</table>\n",
       "</div>"
      ],
      "text/plain": [
       "   customerID  gender  SeniorCitizen Partner Dependents  tenure PhoneService  \\\n",
       "0  7590-VHVEG  Female              0     Yes         No       1           No   \n",
       "1  5575-GNVDE    Male              0      No         No      34          Yes   \n",
       "2  3668-QPYBK    Male              0      No         No       2          Yes   \n",
       "3  7795-CFOCW    Male              0      No         No      45           No   \n",
       "4  9237-HQITU  Female              0      No         No       2          Yes   \n",
       "\n",
       "      MultipleLines InternetService OnlineSecurity OnlineBackup  \\\n",
       "0  No phone service             DSL             No          Yes   \n",
       "1                No             DSL            Yes           No   \n",
       "2                No             DSL            Yes          Yes   \n",
       "3  No phone service             DSL            Yes           No   \n",
       "4                No     Fiber optic             No           No   \n",
       "\n",
       "  DeviceProtection TechSupport StreamingTV StreamingMovies        Contract  \\\n",
       "0               No          No          No              No  Month-to-month   \n",
       "1              Yes          No          No              No        One year   \n",
       "2               No          No          No              No  Month-to-month   \n",
       "3              Yes         Yes          No              No        One year   \n",
       "4               No          No          No              No  Month-to-month   \n",
       "\n",
       "  PaperlessBilling              PaymentMethod  MonthlyCharges TotalCharges  \\\n",
       "0              Yes           Electronic check           29.85        29.85   \n",
       "1               No               Mailed check           56.95       1889.5   \n",
       "2              Yes               Mailed check           53.85       108.15   \n",
       "3               No  Bank transfer (automatic)           42.30      1840.75   \n",
       "4              Yes           Electronic check           70.70       151.65   \n",
       "\n",
       "  Churn  \n",
       "0    No  \n",
       "1    No  \n",
       "2   Yes  \n",
       "3    No  \n",
       "4   Yes  "
      ]
     },
     "execution_count": 5,
     "metadata": {},
     "output_type": "execute_result"
    }
   ],
   "source": [
    "#find how the data was stored in dataframe by using head function\n",
    "#head fuction shows first 5 rows of dataframes\n",
    "df.head()"
   ]
  },
  {
   "cell_type": "code",
   "execution_count": 6,
   "metadata": {},
   "outputs": [
    {
     "data": {
      "text/plain": [
       "customerID           object\n",
       "gender               object\n",
       "SeniorCitizen         int64\n",
       "Partner              object\n",
       "Dependents           object\n",
       "tenure                int64\n",
       "PhoneService         object\n",
       "MultipleLines        object\n",
       "InternetService      object\n",
       "OnlineSecurity       object\n",
       "OnlineBackup         object\n",
       "DeviceProtection     object\n",
       "TechSupport          object\n",
       "StreamingTV          object\n",
       "StreamingMovies      object\n",
       "Contract             object\n",
       "PaperlessBilling     object\n",
       "PaymentMethod        object\n",
       "MonthlyCharges      float64\n",
       "TotalCharges         object\n",
       "Churn                object\n",
       "dtype: object"
      ]
     },
     "execution_count": 6,
     "metadata": {},
     "output_type": "execute_result"
    }
   ],
   "source": [
    "df.dtypes"
   ]
  },
  {
   "cell_type": "markdown",
   "metadata": {},
   "source": [
    "[SeniorCitizen,tenure] are int64 dtype and MonthlyCharges is float64 dtype and remaining columns are object dtype in give dataframe"
   ]
  },
  {
   "cell_type": "code",
   "execution_count": 7,
   "metadata": {},
   "outputs": [
    {
     "name": "stdout",
     "output_type": "stream",
     "text": [
      "<class 'pandas.core.frame.DataFrame'>\n",
      "RangeIndex: 7043 entries, 0 to 7042\n",
      "Data columns (total 21 columns):\n",
      " #   Column            Non-Null Count  Dtype  \n",
      "---  ------            --------------  -----  \n",
      " 0   customerID        7043 non-null   object \n",
      " 1   gender            7043 non-null   object \n",
      " 2   SeniorCitizen     7043 non-null   int64  \n",
      " 3   Partner           7043 non-null   object \n",
      " 4   Dependents        7043 non-null   object \n",
      " 5   tenure            7043 non-null   int64  \n",
      " 6   PhoneService      7043 non-null   object \n",
      " 7   MultipleLines     7043 non-null   object \n",
      " 8   InternetService   7043 non-null   object \n",
      " 9   OnlineSecurity    7043 non-null   object \n",
      " 10  OnlineBackup      7043 non-null   object \n",
      " 11  DeviceProtection  7043 non-null   object \n",
      " 12  TechSupport       7043 non-null   object \n",
      " 13  StreamingTV       7043 non-null   object \n",
      " 14  StreamingMovies   7043 non-null   object \n",
      " 15  Contract          7043 non-null   object \n",
      " 16  PaperlessBilling  7043 non-null   object \n",
      " 17  PaymentMethod     7043 non-null   object \n",
      " 18  MonthlyCharges    7043 non-null   float64\n",
      " 19  TotalCharges      7043 non-null   object \n",
      " 20  Churn             7043 non-null   object \n",
      "dtypes: float64(1), int64(2), object(18)\n",
      "memory usage: 1.1+ MB\n"
     ]
    }
   ],
   "source": [
    "#it gives full infomation of data farme that no.of columns and names no.of rows and rangeindex, non-null values count of each column and dtypes and dtypes count\n",
    "df.info()"
   ]
  },
  {
   "cell_type": "markdown",
   "metadata": {},
   "source": [
    "here we have a range index of dataframes starts with 0 and ends with 7042, total rows are 7043 and total 21 columns and in all columns we have 7043 non-null values and dtypes are float64 in one columns and int64 in 2 columns and object in18 coulumn"
   ]
  },
  {
   "cell_type": "code",
   "execution_count": 8,
   "metadata": {},
   "outputs": [
    {
     "data": {
      "text/plain": [
       "customerID          0\n",
       "gender              0\n",
       "SeniorCitizen       0\n",
       "Partner             0\n",
       "Dependents          0\n",
       "tenure              0\n",
       "PhoneService        0\n",
       "MultipleLines       0\n",
       "InternetService     0\n",
       "OnlineSecurity      0\n",
       "OnlineBackup        0\n",
       "DeviceProtection    0\n",
       "TechSupport         0\n",
       "StreamingTV         0\n",
       "StreamingMovies     0\n",
       "Contract            0\n",
       "PaperlessBilling    0\n",
       "PaymentMethod       0\n",
       "MonthlyCharges      0\n",
       "TotalCharges        0\n",
       "Churn               0\n",
       "dtype: int64"
      ]
     },
     "execution_count": 8,
     "metadata": {},
     "output_type": "execute_result"
    }
   ],
   "source": [
    "#checking outliers in the dataframes\n",
    "df.isnull().sum()"
   ]
  },
  {
   "cell_type": "markdown",
   "metadata": {},
   "source": [
    "no nullvalues are present in dataframe"
   ]
  },
  {
   "cell_type": "code",
   "execution_count": 9,
   "metadata": {},
   "outputs": [
    {
     "data": {
      "text/plain": [
       "<AxesSubplot:>"
      ]
     },
     "execution_count": 9,
     "metadata": {},
     "output_type": "execute_result"
    },
    {
     "data": {
      "image/png": "[encoded data removed]",
      "text/plain": [
       "<Figure size 864x720 with 2 Axes>"
      ]
     },
     "metadata": {
      "needs_background": "light"
     },
     "output_type": "display_data"
    }
   ],
   "source": [
    "plt.figure(figsize=(12,10))\n",
    "sns.heatmap(df.isnull(),cmap='magma')"
   ]
  },
  {
   "cell_type": "markdown",
   "metadata": {},
   "source": [
    "we got no differnce in color in the plot if we have null values there will be some different shade to show that null vlaues present in that place "
   ]
  },
  {
   "cell_type": "markdown",
   "metadata": {},
   "source": [
    "### Describe the data"
   ]
  },
  {
   "cell_type": "markdown",
   "metadata": {},
   "source": [
    "describe function gives the imfomation of count of variables that used to calculate if their is null values that shows less numberrow rows than given in dimention, and function also it gives the infomation of mean, standard deviation,minimum value,25th percentile,50th percentile(which is median),75th percentile and in last it gives maximum value of each column "
   ]
  },
  {
   "cell_type": "code",
   "execution_count": 10,
   "metadata": {},
   "outputs": [
    {
     "data": {
      "text/html": [
       "<div>\n",
       "<style scoped>\n",
       "    .dataframe tbody tr th:only-of-type {\n",
       "        vertical-align: middle;\n",
       "    }\n",
       "\n",
       "    .dataframe tbody tr th {\n",
       "        vertical-align: top;\n",
       "    }\n",
       "\n",
       "    .dataframe thead th {\n",
       "        text-align: right;\n",
       "    }\n",
       "</style>\n",
       "<table border=\"1\" class=\"dataframe\">\n",
       "  <thead>\n",
       "    <tr style=\"text-align: right;\">\n",
       "      <th></th>\n",
       "      <th>SeniorCitizen</th>\n",
       "      <th>tenure</th>\n",
       "      <th>MonthlyCharges</th>\n",
       "    </tr>\n",
       "  </thead>\n",
       "  <tbody>\n",
       "    <tr>\n",
       "      <th>count</th>\n",
       "      <td>7043.000000</td>\n",
       "      <td>7043.000000</td>\n",
       "      <td>7043.000000</td>\n",
       "    </tr>\n",
       "    <tr>\n",
       "      <th>mean</th>\n",
       "      <td>0.162147</td>\n",
       "      <td>32.371149</td>\n",
       "      <td>64.761692</td>\n",
       "    </tr>\n",
       "    <tr>\n",
       "      <th>std</th>\n",
       "      <td>0.368612</td>\n",
       "      <td>24.559481</td>\n",
       "      <td>30.090047</td>\n",
       "    </tr>\n",
       "    <tr>\n",
       "      <th>min</th>\n",
       "      <td>0.000000</td>\n",
       "      <td>0.000000</td>\n",
       "      <td>18.250000</td>\n",
       "    </tr>\n",
       "    <tr>\n",
       "      <th>25%</th>\n",
       "      <td>0.000000</td>\n",
       "      <td>9.000000</td>\n",
       "      <td>35.500000</td>\n",
       "    </tr>\n",
       "    <tr>\n",
       "      <th>50%</th>\n",
       "      <td>0.000000</td>\n",
       "      <td>29.000000</td>\n",
       "      <td>70.350000</td>\n",
       "    </tr>\n",
       "    <tr>\n",
       "      <th>75%</th>\n",
       "      <td>0.000000</td>\n",
       "      <td>55.000000</td>\n",
       "      <td>89.850000</td>\n",
       "    </tr>\n",
       "    <tr>\n",
       "      <th>max</th>\n",
       "      <td>1.000000</td>\n",
       "      <td>72.000000</td>\n",
       "      <td>118.750000</td>\n",
       "    </tr>\n",
       "  </tbody>\n",
       "</table>\n",
       "</div>"
      ],
      "text/plain": [
       "       SeniorCitizen       tenure  MonthlyCharges\n",
       "count    7043.000000  7043.000000     7043.000000\n",
       "mean        0.162147    32.371149       64.761692\n",
       "std         0.368612    24.559481       30.090047\n",
       "min         0.000000     0.000000       18.250000\n",
       "25%         0.000000     9.000000       35.500000\n",
       "50%         0.000000    29.000000       70.350000\n",
       "75%         0.000000    55.000000       89.850000\n",
       "max         1.000000    72.000000      118.750000"
      ]
     },
     "execution_count": 10,
     "metadata": {},
     "output_type": "execute_result"
    }
   ],
   "source": [
    "df.describe()"
   ]
  },
  {
   "cell_type": "markdown",
   "metadata": {},
   "source": [
    "here we got only 3 columns of data describe because rest of the columns are object type. observe these 3 columns and then we go next step\n",
    "1.here SeniorCitizen column has only 2 values 0 and 1 only \n",
    "2.in tenure column, mean is more than median "
   ]
  },
  {
   "cell_type": "code",
   "execution_count": 11,
   "metadata": {},
   "outputs": [
    {
     "data": {
      "text/plain": [
       "<AxesSubplot:xlabel='tenure'>"
      ]
     },
     "execution_count": 11,
     "metadata": {},
     "output_type": "execute_result"
    },
    {
     "data": {
      "image/png": "[encoded data removed]",
      "text/plain": [
       "<Figure size 432x288 with 1 Axes>"
      ]
     },
     "metadata": {
      "needs_background": "light"
     },
     "output_type": "display_data"
    }
   ],
   "source": [
    "sns.boxplot(df['tenure'],color='red')"
   ]
  },
  {
   "cell_type": "markdown",
   "metadata": {},
   "source": [
    "box plot indicate no outliers in tenure column"
   ]
  },
  {
   "cell_type": "code",
   "execution_count": 12,
   "metadata": {},
   "outputs": [
    {
     "data": {
      "text/plain": [
       "<AxesSubplot:xlabel='MonthlyCharges'>"
      ]
     },
     "execution_count": 12,
     "metadata": {},
     "output_type": "execute_result"
    },
    {
     "data": {
      "image/png": "[encoded data removed]",
      "text/plain": [
       "<Figure size 432x288 with 1 Axes>"
      ]
     },
     "metadata": {
      "needs_background": "light"
     },
     "output_type": "display_data"
    }
   ],
   "source": [
    "sns.boxplot(df['MonthlyCharges'],color='green')"
   ]
  },
  {
   "cell_type": "markdown",
   "metadata": {},
   "source": [
    "above plot shows there is no outliers in Monthlycharges column"
   ]
  },
  {
   "cell_type": "markdown",
   "metadata": {},
   "source": [
    "### Features"
   ]
  },
  {
   "cell_type": "code",
   "execution_count": 13,
   "metadata": {},
   "outputs": [
    {
     "data": {
      "text/plain": [
       "Male      3555\n",
       "Female    3488\n",
       "Name: gender, dtype: int64"
      ]
     },
     "execution_count": 13,
     "metadata": {},
     "output_type": "execute_result"
    },
    {
     "data": {
      "image/png": "[encoded data removed]",
      "text/plain": [
       "<Figure size 432x288 with 1 Axes>"
      ]
     },
     "metadata": {
      "needs_background": "light"
     },
     "output_type": "display_data"
    }
   ],
   "source": [
    "sns.countplot(df['gender'],palette='Accent')\n",
    "sns.countplot(df['gender'],hue=df['Churn'],palette='Accent_r')\n",
    "df['gender'].value_counts()"
   ]
  },
  {
   "cell_type": "markdown",
   "metadata": {},
   "source": [
    "we have almost equal in gender and comparing with Churn almost same for both female and male "
   ]
  },
  {
   "cell_type": "code",
   "execution_count": 14,
   "metadata": {},
   "outputs": [],
   "source": [
    "df['gender']=df['gender'].apply(lambda x: 1 if x == 'Female' else 0)"
   ]
  },
  {
   "cell_type": "code",
   "execution_count": 15,
   "metadata": {},
   "outputs": [
    {
     "data": {
      "text/plain": [
       "0    5901\n",
       "1    1142\n",
       "Name: SeniorCitizen, dtype: int64"
      ]
     },
     "execution_count": 15,
     "metadata": {},
     "output_type": "execute_result"
    }
   ],
   "source": [
    "df['SeniorCitizen'].value_counts()"
   ]
  },
  {
   "cell_type": "code",
   "execution_count": 16,
   "metadata": {},
   "outputs": [
    {
     "data": {
      "text/plain": [
       "<AxesSubplot:xlabel='SeniorCitizen', ylabel='count'>"
      ]
     },
     "execution_count": 16,
     "metadata": {},
     "output_type": "execute_result"
    },
    {
     "data": {
      "image/png": "[encoded data removed]",
      "text/plain": [
       "<Figure size 432x288 with 1 Axes>"
      ]
     },
     "metadata": {
      "needs_background": "light"
     },
     "output_type": "display_data"
    }
   ],
   "source": [
    "sns.countplot(df['SeniorCitizen'],palette='Blues')\n",
    "sns.countplot(df['SeniorCitizen'],hue=df['Churn'],palette='Greens')"
   ]
  },
  {
   "cell_type": "markdown",
   "metadata": {},
   "source": [
    "above plot shows less SeniorCitizen "
   ]
  },
  {
   "cell_type": "code",
   "execution_count": 17,
   "metadata": {},
   "outputs": [],
   "source": [
    "df['SeniorCitizen']=df['SeniorCitizen'].apply(lambda x: 1 if x == 'Yes' else 0)"
   ]
  },
  {
   "cell_type": "code",
   "execution_count": 18,
   "metadata": {},
   "outputs": [
    {
     "data": {
      "text/plain": [
       "No     3641\n",
       "Yes    3402\n",
       "Name: Partner, dtype: int64"
      ]
     },
     "execution_count": 18,
     "metadata": {},
     "output_type": "execute_result"
    }
   ],
   "source": [
    "df['Partner'].value_counts()"
   ]
  },
  {
   "cell_type": "code",
   "execution_count": 19,
   "metadata": {},
   "outputs": [
    {
     "data": {
      "text/plain": [
       "<AxesSubplot:xlabel='Partner', ylabel='count'>"
      ]
     },
     "execution_count": 19,
     "metadata": {},
     "output_type": "execute_result"
    },
    {
     "data": {
      "image/png": "[encoded data removed]",
      "text/plain": [
       "<Figure size 432x288 with 1 Axes>"
      ]
     },
     "metadata": {
      "needs_background": "light"
     },
     "output_type": "display_data"
    }
   ],
   "source": [
    "sns.countplot(df['Partner'],palette='BuGn')\n",
    "sns.countplot(df['Partner'],hue=df['Churn'],palette='Dark2_r')"
   ]
  },
  {
   "cell_type": "markdown",
   "metadata": {},
   "source": [
    "as we see about business, we generally look that having Partners or not, here almost we have equal that some had Partner and some are not "
   ]
  },
  {
   "cell_type": "code",
   "execution_count": 20,
   "metadata": {},
   "outputs": [],
   "source": [
    "df['Partner']=df['Partner'].apply(lambda x: 1 if x == 'Yes' else 0)"
   ]
  },
  {
   "cell_type": "code",
   "execution_count": 21,
   "metadata": {},
   "outputs": [
    {
     "data": {
      "text/plain": [
       "No     4933\n",
       "Yes    2110\n",
       "Name: Dependents, dtype: int64"
      ]
     },
     "execution_count": 21,
     "metadata": {},
     "output_type": "execute_result"
    }
   ],
   "source": [
    "df['Dependents'].value_counts()"
   ]
  },
  {
   "cell_type": "code",
   "execution_count": 22,
   "metadata": {},
   "outputs": [
    {
     "data": {
      "text/plain": [
       "<AxesSubplot:xlabel='Dependents', ylabel='count'>"
      ]
     },
     "execution_count": 22,
     "metadata": {},
     "output_type": "execute_result"
    },
    {
     "data": {
      "image/png": "[encoded data removed]",
      "text/plain": [
       "<Figure size 432x288 with 1 Axes>"
      ]
     },
     "metadata": {
      "needs_background": "light"
     },
     "output_type": "display_data"
    }
   ],
   "source": [
    "sns.countplot(df['Dependents'],palette='PuRd')\n",
    "sns.countplot(df['Dependents'],hue=df['Churn'],palette='GnBu')"
   ]
  },
  {
   "cell_type": "markdown",
   "metadata": {},
   "source": [
    "it is all about the business so one of the most important aspect that business owners have Dependents are not, here we have most records with no dependents"
   ]
  },
  {
   "cell_type": "code",
   "execution_count": 23,
   "metadata": {},
   "outputs": [],
   "source": [
    "df['Dependents']=df['Dependents'].apply(lambda x: 1 if x == 'Yes' else 0)"
   ]
  },
  {
   "cell_type": "code",
   "execution_count": 24,
   "metadata": {},
   "outputs": [
    {
     "data": {
      "text/plain": [
       "1     613\n",
       "72    362\n",
       "2     238\n",
       "3     200\n",
       "4     176\n",
       "     ... \n",
       "28     57\n",
       "39     56\n",
       "44     51\n",
       "36     50\n",
       "0      11\n",
       "Name: tenure, Length: 73, dtype: int64"
      ]
     },
     "execution_count": 24,
     "metadata": {},
     "output_type": "execute_result"
    }
   ],
   "source": [
    "df['tenure'].value_counts()"
   ]
  },
  {
   "cell_type": "code",
   "execution_count": 25,
   "metadata": {},
   "outputs": [
    {
     "data": {
      "image/png": "[encoded data removed]",
      "text/plain": [
       "<Figure size 1152x576 with 1 Axes>"
      ]
     },
     "metadata": {
      "needs_background": "light"
     },
     "output_type": "display_data"
    }
   ],
   "source": [
    "plt.figure(figsize=(16,8))\n",
    "sns.countplot(x=\"tenure\", hue=\"Churn\", data=df)\n",
    "plt.show()"
   ]
  },
  {
   "cell_type": "markdown",
   "metadata": {},
   "source": [
    "As we can see the higher the tenure, the lesser the churn rate. This tells us that the customer becomes loyal with the tenure.\n",
    "\n",
    "Converting into 5 groups to reduce model complexity."
   ]
  },
  {
   "cell_type": "code",
   "execution_count": 26,
   "metadata": {},
   "outputs": [],
   "source": [
    "def tenure(t):\n",
    "    if t<=12:\n",
    "        return 1\n",
    "    elif t>12 and t<=24:\n",
    "        return 2\n",
    "    elif t>24 and t<=36:\n",
    "        return 3\n",
    "    elif t>36 and t<=48:\n",
    "        return 4\n",
    "    elif t>48 and t<=60:\n",
    "        return 5\n",
    "    else:\n",
    "        return 6\n",
    "\n",
    "df[\"tenure_group\"]=df[\"tenure\"].apply(lambda x: tenure(x))"
   ]
  },
  {
   "cell_type": "code",
   "execution_count": 27,
   "metadata": {},
   "outputs": [
    {
     "data": {
      "text/plain": [
       "1    2186\n",
       "6    1407\n",
       "2    1024\n",
       "3     832\n",
       "5     832\n",
       "4     762\n",
       "Name: tenure_group, dtype: int64"
      ]
     },
     "execution_count": 27,
     "metadata": {},
     "output_type": "execute_result"
    }
   ],
   "source": [
    "df[\"tenure_group\"].value_counts()"
   ]
  },
  {
   "cell_type": "code",
   "execution_count": 28,
   "metadata": {},
   "outputs": [
    {
     "data": {
      "text/plain": [
       "<AxesSubplot:xlabel='tenure_group', ylabel='count'>"
      ]
     },
     "execution_count": 28,
     "metadata": {},
     "output_type": "execute_result"
    },
    {
     "data": {
      "image/png": "[encoded data removed]",
      "text/plain": [
       "<Figure size 432x288 with 1 Axes>"
      ]
     },
     "metadata": {
      "needs_background": "light"
     },
     "output_type": "display_data"
    }
   ],
   "source": [
    "sns.countplot(df[\"tenure_group\"],palette='autumn')\n",
    "sns.countplot(x=\"tenure_group\", hue=\"Churn\", data=df,palette='afmhot')"
   ]
  },
  {
   "cell_type": "code",
   "execution_count": 29,
   "metadata": {},
   "outputs": [
    {
     "data": {
      "text/plain": [
       "Yes    6361\n",
       "No      682\n",
       "Name: PhoneService, dtype: int64"
      ]
     },
     "execution_count": 29,
     "metadata": {},
     "output_type": "execute_result"
    }
   ],
   "source": [
    "df['PhoneService'].value_counts()"
   ]
  },
  {
   "cell_type": "code",
   "execution_count": 30,
   "metadata": {},
   "outputs": [
    {
     "data": {
      "text/plain": [
       "<AxesSubplot:xlabel='PhoneService', ylabel='count'>"
      ]
     },
     "execution_count": 30,
     "metadata": {},
     "output_type": "execute_result"
    },
    {
     "data": {
      "image/png": "[encoded data removed]",
      "text/plain": [
       "<Figure size 432x288 with 1 Axes>"
      ]
     },
     "metadata": {
      "needs_background": "light"
     },
     "output_type": "display_data"
    }
   ],
   "source": [
    "sns.countplot(df['PhoneService'],palette='coolwarm')\n",
    "sns.countplot(df['PhoneService'],hue=df['Churn'],palette='brg')"
   ]
  },
  {
   "cell_type": "markdown",
   "metadata": {},
   "source": [
    "almost every business has phone service"
   ]
  },
  {
   "cell_type": "code",
   "execution_count": 31,
   "metadata": {},
   "outputs": [],
   "source": [
    "df['PhoneService']=df['PhoneService'].apply(lambda x: 1 if x == 'Yes' else 0)"
   ]
  },
  {
   "cell_type": "code",
   "execution_count": 32,
   "metadata": {},
   "outputs": [
    {
     "data": {
      "text/plain": [
       "array(['No phone service', 'No', 'Yes'], dtype=object)"
      ]
     },
     "execution_count": 32,
     "metadata": {},
     "output_type": "execute_result"
    }
   ],
   "source": [
    "df['MultipleLines'].unique()"
   ]
  },
  {
   "cell_type": "code",
   "execution_count": 33,
   "metadata": {},
   "outputs": [
    {
     "data": {
      "text/plain": [
       "No                  3390\n",
       "Yes                 2971\n",
       "No phone service     682\n",
       "Name: MultipleLines, dtype: int64"
      ]
     },
     "execution_count": 33,
     "metadata": {},
     "output_type": "execute_result"
    },
    {
     "data": {
      "image/png": "[encoded data removed]",
      "text/plain": [
       "<Figure size 432x288 with 1 Axes>"
      ]
     },
     "metadata": {
      "needs_background": "light"
     },
     "output_type": "display_data"
    }
   ],
   "source": [
    "sns.countplot(df['MultipleLines'])\n",
    "sns.countplot(df['MultipleLines'],hue=df['Churn'],palette='bwr')\n",
    "df['MultipleLines'].value_counts()"
   ]
  },
  {
   "cell_type": "markdown",
   "metadata": {},
   "source": [
    "MultipleLines is about having multiple phone lines or not but most of the business have no multiple lines"
   ]
  },
  {
   "cell_type": "code",
   "execution_count": 34,
   "metadata": {},
   "outputs": [],
   "source": [
    "df['MultipleLines']=df['MultipleLines'].apply(lambda x: 1 if x == 'Yes' else 0)"
   ]
  },
  {
   "cell_type": "code",
   "execution_count": 35,
   "metadata": {},
   "outputs": [
    {
     "data": {
      "text/plain": [
       "array(['DSL', 'Fiber optic', 'No'], dtype=object)"
      ]
     },
     "execution_count": 35,
     "metadata": {},
     "output_type": "execute_result"
    }
   ],
   "source": [
    "df['InternetService'].unique()"
   ]
  },
  {
   "cell_type": "code",
   "execution_count": 36,
   "metadata": {},
   "outputs": [
    {
     "data": {
      "text/plain": [
       "Fiber optic    3096\n",
       "DSL            2421\n",
       "No             1526\n",
       "Name: InternetService, dtype: int64"
      ]
     },
     "execution_count": 36,
     "metadata": {},
     "output_type": "execute_result"
    },
    {
     "data": {
      "image/png": "[encoded data removed]",
      "text/plain": [
       "<Figure size 432x288 with 1 Axes>"
      ]
     },
     "metadata": {
      "needs_background": "light"
     },
     "output_type": "display_data"
    }
   ],
   "source": [
    "sns.countplot(df['InternetService'],palette='gist_gray')\n",
    "sns.countplot(df['InternetService'],hue=df['Churn'],palette='gist_gray')\n",
    "df['InternetService'].value_counts()"
   ]
  },
  {
   "cell_type": "markdown",
   "metadata": {},
   "source": [
    "most of the companies have internet sevice and two different types DSL AND Fiber optic but hear we have most companies had fiber optic "
   ]
  },
  {
   "cell_type": "code",
   "execution_count": 37,
   "metadata": {},
   "outputs": [],
   "source": [
    "df[\"InternetService\"] = df[\"InternetService\"].map({'No':0, 'DSL':1, 'Fiber optic':2})"
   ]
  },
  {
   "cell_type": "code",
   "execution_count": 38,
   "metadata": {},
   "outputs": [
    {
     "data": {
      "text/plain": [
       "array(['No', 'Yes', 'No internet service'], dtype=object)"
      ]
     },
     "execution_count": 38,
     "metadata": {},
     "output_type": "execute_result"
    }
   ],
   "source": [
    "df['OnlineSecurity'].unique()"
   ]
  },
  {
   "cell_type": "code",
   "execution_count": 39,
   "metadata": {},
   "outputs": [
    {
     "data": {
      "text/plain": [
       "No                     3498\n",
       "Yes                    2019\n",
       "No internet service    1526\n",
       "Name: OnlineSecurity, dtype: int64"
      ]
     },
     "execution_count": 39,
     "metadata": {},
     "output_type": "execute_result"
    },
    {
     "data": {
      "image/png": "[encoded data removed]",
      "text/plain": [
       "<Figure size 432x288 with 1 Axes>"
      ]
     },
     "metadata": {
      "needs_background": "light"
     },
     "output_type": "display_data"
    }
   ],
   "source": [
    "sns.countplot(df['OnlineSecurity'],palette='gist_stern')\n",
    "sns.countplot(df['OnlineSecurity'],hue=df['Churn'],palette='gist_stern')\n",
    "df['OnlineSecurity'].value_counts()"
   ]
  },
  {
   "cell_type": "markdown",
   "metadata": {},
   "source": [
    "every business most have online security that they have to maintain but most of the services has no security services "
   ]
  },
  {
   "cell_type": "code",
   "execution_count": 40,
   "metadata": {},
   "outputs": [],
   "source": [
    "df['OnlineSecurity']=df['OnlineSecurity'].apply(lambda x: 1 if x == 'Yes' else 0)"
   ]
  },
  {
   "cell_type": "code",
   "execution_count": 41,
   "metadata": {},
   "outputs": [
    {
     "data": {
      "text/plain": [
       "array(['Yes', 'No', 'No internet service'], dtype=object)"
      ]
     },
     "execution_count": 41,
     "metadata": {},
     "output_type": "execute_result"
    }
   ],
   "source": [
    "df['OnlineBackup'].unique()"
   ]
  },
  {
   "cell_type": "code",
   "execution_count": 42,
   "metadata": {},
   "outputs": [
    {
     "data": {
      "text/plain": [
       "No                     3088\n",
       "Yes                    2429\n",
       "No internet service    1526\n",
       "Name: OnlineBackup, dtype: int64"
      ]
     },
     "execution_count": 42,
     "metadata": {},
     "output_type": "execute_result"
    },
    {
     "data": {
      "image/png": "[encoded data removed]",
      "text/plain": [
       "<Figure size 432x288 with 1 Axes>"
      ]
     },
     "metadata": {
      "needs_background": "light"
     },
     "output_type": "display_data"
    }
   ],
   "source": [
    "sns.countplot(df['OnlineBackup'],palette='hsv')\n",
    "sns.countplot(df['OnlineBackup'],hue=df['Churn'],palette='hsv')\n",
    "df['OnlineBackup'].value_counts()"
   ]
  },
  {
   "cell_type": "markdown",
   "metadata": {},
   "source": [
    "if we maintain online services we must have backup but some has no backup and some had no internet sevice so most off the records have no service so no question of backup for those"
   ]
  },
  {
   "cell_type": "code",
   "execution_count": 43,
   "metadata": {},
   "outputs": [],
   "source": [
    "df['OnlineBackup']=df['OnlineBackup'].apply(lambda x: 1 if x == 'Yes' else 0)"
   ]
  },
  {
   "cell_type": "code",
   "execution_count": 44,
   "metadata": {},
   "outputs": [
    {
     "data": {
      "text/plain": [
       "array(['No', 'Yes', 'No internet service'], dtype=object)"
      ]
     },
     "execution_count": 44,
     "metadata": {},
     "output_type": "execute_result"
    }
   ],
   "source": [
    "df['DeviceProtection'].unique()"
   ]
  },
  {
   "cell_type": "code",
   "execution_count": 45,
   "metadata": {},
   "outputs": [
    {
     "data": {
      "text/plain": [
       "No                     3095\n",
       "Yes                    2422\n",
       "No internet service    1526\n",
       "Name: DeviceProtection, dtype: int64"
      ]
     },
     "execution_count": 45,
     "metadata": {},
     "output_type": "execute_result"
    },
    {
     "data": {
      "image/png": "[encoded data removed]",
      "text/plain": [
       "<Figure size 432x288 with 1 Axes>"
      ]
     },
     "metadata": {
      "needs_background": "light"
     },
     "output_type": "display_data"
    }
   ],
   "source": [
    "sns.countplot(df['DeviceProtection'],palette='prism')\n",
    "sns.countplot(df['DeviceProtection'],hue=df['Churn'],palette='prism')\n",
    "df['DeviceProtection'].value_counts()"
   ]
  },
  {
   "cell_type": "markdown",
   "metadata": {},
   "source": [
    "we we have internet service so it has to take care of DeviceProtection to not hack by any other persons"
   ]
  },
  {
   "cell_type": "code",
   "execution_count": 46,
   "metadata": {},
   "outputs": [],
   "source": [
    "df['DeviceProtection']=df['DeviceProtection'].apply(lambda x: 1 if x == 'Yes' else 0)"
   ]
  },
  {
   "cell_type": "code",
   "execution_count": 47,
   "metadata": {},
   "outputs": [
    {
     "data": {
      "text/plain": [
       "array(['No', 'Yes', 'No internet service'], dtype=object)"
      ]
     },
     "execution_count": 47,
     "metadata": {},
     "output_type": "execute_result"
    }
   ],
   "source": [
    "df['TechSupport'].unique()"
   ]
  },
  {
   "cell_type": "code",
   "execution_count": 48,
   "metadata": {},
   "outputs": [
    {
     "data": {
      "text/plain": [
       "No                     3473\n",
       "Yes                    2044\n",
       "No internet service    1526\n",
       "Name: TechSupport, dtype: int64"
      ]
     },
     "execution_count": 48,
     "metadata": {},
     "output_type": "execute_result"
    },
    {
     "data": {
      "image/png": "[encoded data removed]",
      "text/plain": [
       "<Figure size 432x288 with 1 Axes>"
      ]
     },
     "metadata": {
      "needs_background": "light"
     },
     "output_type": "display_data"
    }
   ],
   "source": [
    "sns.countplot(df['TechSupport'],palette='ocean')\n",
    "sns.countplot(df['TechSupport'],hue=df['Churn'],palette='ocean')\n",
    "df['TechSupport'].value_counts()"
   ]
  },
  {
   "cell_type": "markdown",
   "metadata": {},
   "source": [
    "if we use internet services that means we have to use some technology to handle operations so for that we need to maintain proper support system"
   ]
  },
  {
   "cell_type": "code",
   "execution_count": 49,
   "metadata": {},
   "outputs": [],
   "source": [
    "df['TechSupport']=df['TechSupport'].apply(lambda x: 1 if x == 'Yes' else 0)"
   ]
  },
  {
   "cell_type": "code",
   "execution_count": 50,
   "metadata": {},
   "outputs": [
    {
     "data": {
      "text/plain": [
       "array(['No', 'Yes', 'No internet service'], dtype=object)"
      ]
     },
     "execution_count": 50,
     "metadata": {},
     "output_type": "execute_result"
    }
   ],
   "source": [
    "df['StreamingTV'].unique()"
   ]
  },
  {
   "cell_type": "code",
   "execution_count": 51,
   "metadata": {},
   "outputs": [
    {
     "data": {
      "text/plain": [
       "No                     2810\n",
       "Yes                    2707\n",
       "No internet service    1526\n",
       "Name: StreamingTV, dtype: int64"
      ]
     },
     "execution_count": 51,
     "metadata": {},
     "output_type": "execute_result"
    },
    {
     "data": {
      "image/png": "[encoded data removed]",
      "text/plain": [
       "<Figure size 432x288 with 1 Axes>"
      ]
     },
     "metadata": {
      "needs_background": "light"
     },
     "output_type": "display_data"
    }
   ],
   "source": [
    "sns.countplot(df['StreamingTV'],palette='spring')\n",
    "sns.countplot(df['StreamingTV'],palette='spring',hue=df['Churn'])\n",
    "df['StreamingTV'].value_counts()"
   ]
  },
  {
   "cell_type": "code",
   "execution_count": 52,
   "metadata": {},
   "outputs": [],
   "source": [
    "df['StreamingTV']=df['StreamingTV'].apply(lambda x: 1 if x == 'Yes' else 0)"
   ]
  },
  {
   "cell_type": "code",
   "execution_count": 53,
   "metadata": {},
   "outputs": [
    {
     "data": {
      "text/plain": [
       "array(['No', 'Yes', 'No internet service'], dtype=object)"
      ]
     },
     "execution_count": 53,
     "metadata": {},
     "output_type": "execute_result"
    }
   ],
   "source": [
    "df['StreamingMovies'].unique()"
   ]
  },
  {
   "cell_type": "code",
   "execution_count": 54,
   "metadata": {},
   "outputs": [
    {
     "data": {
      "text/plain": [
       "No                     2785\n",
       "Yes                    2732\n",
       "No internet service    1526\n",
       "Name: StreamingMovies, dtype: int64"
      ]
     },
     "execution_count": 54,
     "metadata": {},
     "output_type": "execute_result"
    },
    {
     "data": {
      "image/png": "[encoded data removed]",
      "text/plain": [
       "<Figure size 432x288 with 1 Axes>"
      ]
     },
     "metadata": {
      "needs_background": "light"
     },
     "output_type": "display_data"
    }
   ],
   "source": [
    "sns.countplot(df['StreamingMovies'],palette='summer')\n",
    "sns.countplot(df['StreamingMovies'],hue=df['Churn'],palette='summer')\n",
    "df['StreamingMovies'].value_counts()"
   ]
  },
  {
   "cell_type": "code",
   "execution_count": 55,
   "metadata": {},
   "outputs": [],
   "source": [
    "df['StreamingMovies']=df['StreamingMovies'].apply(lambda x: 1 if x == 'Yes' else 0)"
   ]
  },
  {
   "cell_type": "code",
   "execution_count": 56,
   "metadata": {},
   "outputs": [
    {
     "data": {
      "text/plain": [
       "array(['Month-to-month', 'One year', 'Two year'], dtype=object)"
      ]
     },
     "execution_count": 56,
     "metadata": {},
     "output_type": "execute_result"
    }
   ],
   "source": [
    "df['Contract'].unique()"
   ]
  },
  {
   "cell_type": "code",
   "execution_count": 57,
   "metadata": {},
   "outputs": [
    {
     "data": {
      "text/plain": [
       "Month-to-month    3875\n",
       "Two year          1695\n",
       "One year          1473\n",
       "Name: Contract, dtype: int64"
      ]
     },
     "execution_count": 57,
     "metadata": {},
     "output_type": "execute_result"
    },
    {
     "data": {
      "image/png": "[encoded data removed]",
      "text/plain": [
       "<Figure size 432x288 with 1 Axes>"
      ]
     },
     "metadata": {
      "needs_background": "light"
     },
     "output_type": "display_data"
    }
   ],
   "source": [
    "sns.countplot(df['Contract'],palette='summer')\n",
    "sns.countplot(df['Contract'],hue=df['Churn'],palette='tab20b')\n",
    "df['Contract'].value_counts()"
   ]
  },
  {
   "cell_type": "code",
   "execution_count": 58,
   "metadata": {},
   "outputs": [],
   "source": [
    "df['Contract']=df['Contract'].apply(lambda x: 1 if x == 'Yes' else 0)"
   ]
  },
  {
   "cell_type": "code",
   "execution_count": 59,
   "metadata": {},
   "outputs": [
    {
     "data": {
      "text/plain": [
       "array(['Yes', 'No'], dtype=object)"
      ]
     },
     "execution_count": 59,
     "metadata": {},
     "output_type": "execute_result"
    }
   ],
   "source": [
    "df['PaperlessBilling'].unique()"
   ]
  },
  {
   "cell_type": "code",
   "execution_count": 60,
   "metadata": {},
   "outputs": [
    {
     "data": {
      "text/plain": [
       "Yes    4171\n",
       "No     2872\n",
       "Name: PaperlessBilling, dtype: int64"
      ]
     },
     "execution_count": 60,
     "metadata": {},
     "output_type": "execute_result"
    },
    {
     "data": {
      "image/png": "[encoded data removed]",
      "text/plain": [
       "<Figure size 432x288 with 1 Axes>"
      ]
     },
     "metadata": {
      "needs_background": "light"
     },
     "output_type": "display_data"
    }
   ],
   "source": [
    "sns.countplot(df['PaperlessBilling'],palette='summer')\n",
    "sns.countplot(df['PaperlessBilling'],hue=df['Churn'],palette='vlag_r')\n",
    "df['PaperlessBilling'].value_counts()"
   ]
  },
  {
   "cell_type": "code",
   "execution_count": 61,
   "metadata": {},
   "outputs": [],
   "source": [
    "df['PaperlessBilling']=df['PaperlessBilling'].apply(lambda x: 1 if x == 'Yes' else 0)"
   ]
  },
  {
   "cell_type": "code",
   "execution_count": 62,
   "metadata": {},
   "outputs": [
    {
     "data": {
      "text/plain": [
       "array(['Electronic check', 'Mailed check', 'Bank transfer (automatic)',\n",
       "       'Credit card (automatic)'], dtype=object)"
      ]
     },
     "execution_count": 62,
     "metadata": {},
     "output_type": "execute_result"
    }
   ],
   "source": [
    "df['PaymentMethod'].unique()"
   ]
  },
  {
   "cell_type": "code",
   "execution_count": 63,
   "metadata": {},
   "outputs": [
    {
     "data": {
      "text/plain": [
       "Electronic check             2365\n",
       "Mailed check                 1612\n",
       "Bank transfer (automatic)    1544\n",
       "Credit card (automatic)      1522\n",
       "Name: PaymentMethod, dtype: int64"
      ]
     },
     "execution_count": 63,
     "metadata": {},
     "output_type": "execute_result"
    },
    {
     "data": {
      "image/png": "[encoded data removed]",
      "text/plain": [
       "<Figure size 720x288 with 1 Axes>"
      ]
     },
     "metadata": {
      "needs_background": "light"
     },
     "output_type": "display_data"
    }
   ],
   "source": [
    "plt.figure(figsize=(10,4))\n",
    "sns.countplot(df['PaymentMethod'],palette='summer')\n",
    "sns.countplot(df['PaymentMethod'],hue=df['Churn'],palette='twilight')\n",
    "df['PaymentMethod'].value_counts()"
   ]
  },
  {
   "cell_type": "code",
   "execution_count": 64,
   "metadata": {},
   "outputs": [],
   "source": [
    "df[\"PaymentMethod\"] = df[\"PaymentMethod\"].map({'Electronic check':0, 'Mailed check':1, \n",
    "                                               'Bank transfer (automatic)':2,'Credit card (automatic)':3})"
   ]
  },
  {
   "cell_type": "code",
   "execution_count": 65,
   "metadata": {},
   "outputs": [
    {
     "data": {
      "text/plain": [
       "0         29.85\n",
       "1        1889.5\n",
       "2        108.15\n",
       "3       1840.75\n",
       "4        151.65\n",
       "         ...   \n",
       "7038     1990.5\n",
       "7039     7362.9\n",
       "7040     346.45\n",
       "7041      306.6\n",
       "7042     6844.5\n",
       "Name: TotalCharges, Length: 7043, dtype: object"
      ]
     },
     "execution_count": 65,
     "metadata": {},
     "output_type": "execute_result"
    }
   ],
   "source": [
    "df['TotalCharges']"
   ]
  },
  {
   "cell_type": "code",
   "execution_count": 66,
   "metadata": {},
   "outputs": [],
   "source": [
    "df['TotalCharges'] =pd.to_numeric(df[\"TotalCharges\"],errors='coerce')"
   ]
  },
  {
   "cell_type": "code",
   "execution_count": 67,
   "metadata": {},
   "outputs": [
    {
     "data": {
      "text/plain": [
       "<AxesSubplot:xlabel='TotalCharges', ylabel='Density'>"
      ]
     },
     "execution_count": 67,
     "metadata": {},
     "output_type": "execute_result"
    },
    {
     "data": {
      "image/png": "[encoded data removed]",
      "text/plain": [
       "<Figure size 432x288 with 1 Axes>"
      ]
     },
     "metadata": {
      "needs_background": "light"
     },
     "output_type": "display_data"
    }
   ],
   "source": [
    "sns.distplot(df['TotalCharges'])"
   ]
  },
  {
   "cell_type": "markdown",
   "metadata": {},
   "source": [
    "TotalCharges column has skewed data and it has outliers also"
   ]
  },
  {
   "cell_type": "code",
   "execution_count": 68,
   "metadata": {},
   "outputs": [
    {
     "data": {
      "image/png": "[encoded data removed]",
      "text/plain": [
       "<Figure size 1080x432 with 1 Axes>"
      ]
     },
     "metadata": {
      "needs_background": "light"
     },
     "output_type": "display_data"
    }
   ],
   "source": [
    "boxplot = df.boxplot(figsize=(15,6), column=['TotalCharges'], by=\"Churn\")"
   ]
  },
  {
   "cell_type": "code",
   "execution_count": 69,
   "metadata": {},
   "outputs": [
    {
     "name": "stdout",
     "output_type": "stream",
     "text": [
      "lower_boundary: -1116.8566019828481\n",
      "uppper_boundary 5683.457483666587\n"
     ]
    },
    {
     "data": {
      "text/plain": [
       "(None, None)"
      ]
     },
     "execution_count": 69,
     "metadata": {},
     "output_type": "execute_result"
    }
   ],
   "source": [
    "uppper_boundary=df['TotalCharges'].mean() + 1.5* df['TotalCharges'].std()\n",
    "lower_boundary=df['TotalCharges'].mean() - 1.5*df['TotalCharges'].std()\n",
    "print(\"lower_boundary:\",lower_boundary), print(\"uppper_boundary\",uppper_boundary)"
   ]
  },
  {
   "cell_type": "code",
   "execution_count": 70,
   "metadata": {},
   "outputs": [
    {
     "data": {
      "text/plain": [
       "(18.8, 8684.8)"
      ]
     },
     "execution_count": 70,
     "metadata": {},
     "output_type": "execute_result"
    }
   ],
   "source": [
    "min(df['TotalCharges']),max(df['TotalCharges'])"
   ]
  },
  {
   "cell_type": "code",
   "execution_count": 71,
   "metadata": {},
   "outputs": [],
   "source": [
    "df.loc[df['TotalCharges']>5683.46,'TotalCharges']=5683.46"
   ]
  },
  {
   "cell_type": "code",
   "execution_count": 72,
   "metadata": {},
   "outputs": [
    {
     "data": {
      "text/plain": [
       "11"
      ]
     },
     "execution_count": 72,
     "metadata": {},
     "output_type": "execute_result"
    }
   ],
   "source": [
    "df['TotalCharges'].isnull().sum()"
   ]
  },
  {
   "cell_type": "code",
   "execution_count": 73,
   "metadata": {},
   "outputs": [],
   "source": [
    "df=df.dropna(axis = 0, how ='any')"
   ]
  },
  {
   "cell_type": "code",
   "execution_count": 74,
   "metadata": {},
   "outputs": [
    {
     "data": {
      "text/plain": [
       "<AxesSubplot:xlabel='Churn', ylabel='count'>"
      ]
     },
     "execution_count": 74,
     "metadata": {},
     "output_type": "execute_result"
    },
    {
     "data": {
      "image/png": "[encoded data removed]",
      "text/plain": [
       "<Figure size 432x288 with 1 Axes>"
      ]
     },
     "metadata": {
      "needs_background": "light"
     },
     "output_type": "display_data"
    }
   ],
   "source": [
    "sns.countplot(df['Churn'])"
   ]
  },
  {
   "cell_type": "markdown",
   "metadata": {},
   "source": [
    "we have imblance data"
   ]
  },
  {
   "cell_type": "code",
   "execution_count": 75,
   "metadata": {},
   "outputs": [],
   "source": [
    "df['Churn']=df['Churn'].apply(lambda x: 1 if x == 'Yes' else 0)"
   ]
  },
  {
   "cell_type": "code",
   "execution_count": 76,
   "metadata": {},
   "outputs": [
    {
     "data": {
      "text/html": [
       "<div>\n",
       "<style scoped>\n",
       "    .dataframe tbody tr th:only-of-type {\n",
       "        vertical-align: middle;\n",
       "    }\n",
       "\n",
       "    .dataframe tbody tr th {\n",
       "        vertical-align: top;\n",
       "    }\n",
       "\n",
       "    .dataframe thead th {\n",
       "        text-align: right;\n",
       "    }\n",
       "</style>\n",
       "<table border=\"1\" class=\"dataframe\">\n",
       "  <thead>\n",
       "    <tr style=\"text-align: right;\">\n",
       "      <th></th>\n",
       "      <th>customerID</th>\n",
       "      <th>gender</th>\n",
       "      <th>SeniorCitizen</th>\n",
       "      <th>Partner</th>\n",
       "      <th>Dependents</th>\n",
       "      <th>tenure</th>\n",
       "      <th>PhoneService</th>\n",
       "      <th>MultipleLines</th>\n",
       "      <th>InternetService</th>\n",
       "      <th>OnlineSecurity</th>\n",
       "      <th>OnlineBackup</th>\n",
       "      <th>DeviceProtection</th>\n",
       "      <th>TechSupport</th>\n",
       "      <th>StreamingTV</th>\n",
       "      <th>StreamingMovies</th>\n",
       "      <th>Contract</th>\n",
       "      <th>PaperlessBilling</th>\n",
       "      <th>PaymentMethod</th>\n",
       "      <th>MonthlyCharges</th>\n",
       "      <th>TotalCharges</th>\n",
       "      <th>Churn</th>\n",
       "      <th>tenure_group</th>\n",
       "    </tr>\n",
       "  </thead>\n",
       "  <tbody>\n",
       "    <tr>\n",
       "      <th>0</th>\n",
       "      <td>7590-VHVEG</td>\n",
       "      <td>1</td>\n",
       "      <td>0</td>\n",
       "      <td>1</td>\n",
       "      <td>0</td>\n",
       "      <td>1</td>\n",
       "      <td>0</td>\n",
       "      <td>0</td>\n",
       "      <td>1</td>\n",
       "      <td>0</td>\n",
       "      <td>1</td>\n",
       "      <td>0</td>\n",
       "      <td>0</td>\n",
       "      <td>0</td>\n",
       "      <td>0</td>\n",
       "      <td>0</td>\n",
       "      <td>1</td>\n",
       "      <td>0</td>\n",
       "      <td>29.85</td>\n",
       "      <td>29.85</td>\n",
       "      <td>0</td>\n",
       "      <td>1</td>\n",
       "    </tr>\n",
       "    <tr>\n",
       "      <th>1</th>\n",
       "      <td>5575-GNVDE</td>\n",
       "      <td>0</td>\n",
       "      <td>0</td>\n",
       "      <td>0</td>\n",
       "      <td>0</td>\n",
       "      <td>34</td>\n",
       "      <td>1</td>\n",
       "      <td>0</td>\n",
       "      <td>1</td>\n",
       "      <td>1</td>\n",
       "      <td>0</td>\n",
       "      <td>1</td>\n",
       "      <td>0</td>\n",
       "      <td>0</td>\n",
       "      <td>0</td>\n",
       "      <td>0</td>\n",
       "      <td>0</td>\n",
       "      <td>1</td>\n",
       "      <td>56.95</td>\n",
       "      <td>1889.50</td>\n",
       "      <td>0</td>\n",
       "      <td>3</td>\n",
       "    </tr>\n",
       "    <tr>\n",
       "      <th>2</th>\n",
       "      <td>3668-QPYBK</td>\n",
       "      <td>0</td>\n",
       "      <td>0</td>\n",
       "      <td>0</td>\n",
       "      <td>0</td>\n",
       "      <td>2</td>\n",
       "      <td>1</td>\n",
       "      <td>0</td>\n",
       "      <td>1</td>\n",
       "      <td>1</td>\n",
       "      <td>1</td>\n",
       "      <td>0</td>\n",
       "      <td>0</td>\n",
       "      <td>0</td>\n",
       "      <td>0</td>\n",
       "      <td>0</td>\n",
       "      <td>1</td>\n",
       "      <td>1</td>\n",
       "      <td>53.85</td>\n",
       "      <td>108.15</td>\n",
       "      <td>1</td>\n",
       "      <td>1</td>\n",
       "    </tr>\n",
       "    <tr>\n",
       "      <th>3</th>\n",
       "      <td>7795-CFOCW</td>\n",
       "      <td>0</td>\n",
       "      <td>0</td>\n",
       "      <td>0</td>\n",
       "      <td>0</td>\n",
       "      <td>45</td>\n",
       "      <td>0</td>\n",
       "      <td>0</td>\n",
       "      <td>1</td>\n",
       "      <td>1</td>\n",
       "      <td>0</td>\n",
       "      <td>1</td>\n",
       "      <td>1</td>\n",
       "      <td>0</td>\n",
       "      <td>0</td>\n",
       "      <td>0</td>\n",
       "      <td>0</td>\n",
       "      <td>2</td>\n",
       "      <td>42.30</td>\n",
       "      <td>1840.75</td>\n",
       "      <td>0</td>\n",
       "      <td>4</td>\n",
       "    </tr>\n",
       "    <tr>\n",
       "      <th>4</th>\n",
       "      <td>9237-HQITU</td>\n",
       "      <td>1</td>\n",
       "      <td>0</td>\n",
       "      <td>0</td>\n",
       "      <td>0</td>\n",
       "      <td>2</td>\n",
       "      <td>1</td>\n",
       "      <td>0</td>\n",
       "      <td>2</td>\n",
       "      <td>0</td>\n",
       "      <td>0</td>\n",
       "      <td>0</td>\n",
       "      <td>0</td>\n",
       "      <td>0</td>\n",
       "      <td>0</td>\n",
       "      <td>0</td>\n",
       "      <td>1</td>\n",
       "      <td>0</td>\n",
       "      <td>70.70</td>\n",
       "      <td>151.65</td>\n",
       "      <td>1</td>\n",
       "      <td>1</td>\n",
       "    </tr>\n",
       "    <tr>\n",
       "      <th>...</th>\n",
       "      <td>...</td>\n",
       "      <td>...</td>\n",
       "      <td>...</td>\n",
       "      <td>...</td>\n",
       "      <td>...</td>\n",
       "      <td>...</td>\n",
       "      <td>...</td>\n",
       "      <td>...</td>\n",
       "      <td>...</td>\n",
       "      <td>...</td>\n",
       "      <td>...</td>\n",
       "      <td>...</td>\n",
       "      <td>...</td>\n",
       "      <td>...</td>\n",
       "      <td>...</td>\n",
       "      <td>...</td>\n",
       "      <td>...</td>\n",
       "      <td>...</td>\n",
       "      <td>...</td>\n",
       "      <td>...</td>\n",
       "      <td>...</td>\n",
       "      <td>...</td>\n",
       "    </tr>\n",
       "    <tr>\n",
       "      <th>7038</th>\n",
       "      <td>6840-RESVB</td>\n",
       "      <td>0</td>\n",
       "      <td>0</td>\n",
       "      <td>1</td>\n",
       "      <td>1</td>\n",
       "      <td>24</td>\n",
       "      <td>1</td>\n",
       "      <td>1</td>\n",
       "      <td>1</td>\n",
       "      <td>1</td>\n",
       "      <td>0</td>\n",
       "      <td>1</td>\n",
       "      <td>1</td>\n",
       "      <td>1</td>\n",
       "      <td>1</td>\n",
       "      <td>0</td>\n",
       "      <td>1</td>\n",
       "      <td>1</td>\n",
       "      <td>84.80</td>\n",
       "      <td>1990.50</td>\n",
       "      <td>0</td>\n",
       "      <td>2</td>\n",
       "    </tr>\n",
       "    <tr>\n",
       "      <th>7039</th>\n",
       "      <td>2234-XADUH</td>\n",
       "      <td>1</td>\n",
       "      <td>0</td>\n",
       "      <td>1</td>\n",
       "      <td>1</td>\n",
       "      <td>72</td>\n",
       "      <td>1</td>\n",
       "      <td>1</td>\n",
       "      <td>2</td>\n",
       "      <td>0</td>\n",
       "      <td>1</td>\n",
       "      <td>1</td>\n",
       "      <td>0</td>\n",
       "      <td>1</td>\n",
       "      <td>1</td>\n",
       "      <td>0</td>\n",
       "      <td>1</td>\n",
       "      <td>3</td>\n",
       "      <td>103.20</td>\n",
       "      <td>5683.46</td>\n",
       "      <td>0</td>\n",
       "      <td>6</td>\n",
       "    </tr>\n",
       "    <tr>\n",
       "      <th>7040</th>\n",
       "      <td>4801-JZAZL</td>\n",
       "      <td>1</td>\n",
       "      <td>0</td>\n",
       "      <td>1</td>\n",
       "      <td>1</td>\n",
       "      <td>11</td>\n",
       "      <td>0</td>\n",
       "      <td>0</td>\n",
       "      <td>1</td>\n",
       "      <td>1</td>\n",
       "      <td>0</td>\n",
       "      <td>0</td>\n",
       "      <td>0</td>\n",
       "      <td>0</td>\n",
       "      <td>0</td>\n",
       "      <td>0</td>\n",
       "      <td>1</td>\n",
       "      <td>0</td>\n",
       "      <td>29.60</td>\n",
       "      <td>346.45</td>\n",
       "      <td>0</td>\n",
       "      <td>1</td>\n",
       "    </tr>\n",
       "    <tr>\n",
       "      <th>7041</th>\n",
       "      <td>8361-LTMKD</td>\n",
       "      <td>0</td>\n",
       "      <td>0</td>\n",
       "      <td>1</td>\n",
       "      <td>0</td>\n",
       "      <td>4</td>\n",
       "      <td>1</td>\n",
       "      <td>1</td>\n",
       "      <td>2</td>\n",
       "      <td>0</td>\n",
       "      <td>0</td>\n",
       "      <td>0</td>\n",
       "      <td>0</td>\n",
       "      <td>0</td>\n",
       "      <td>0</td>\n",
       "      <td>0</td>\n",
       "      <td>1</td>\n",
       "      <td>1</td>\n",
       "      <td>74.40</td>\n",
       "      <td>306.60</td>\n",
       "      <td>1</td>\n",
       "      <td>1</td>\n",
       "    </tr>\n",
       "    <tr>\n",
       "      <th>7042</th>\n",
       "      <td>3186-AJIEK</td>\n",
       "      <td>0</td>\n",
       "      <td>0</td>\n",
       "      <td>0</td>\n",
       "      <td>0</td>\n",
       "      <td>66</td>\n",
       "      <td>1</td>\n",
       "      <td>0</td>\n",
       "      <td>2</td>\n",
       "      <td>1</td>\n",
       "      <td>0</td>\n",
       "      <td>1</td>\n",
       "      <td>1</td>\n",
       "      <td>1</td>\n",
       "      <td>1</td>\n",
       "      <td>0</td>\n",
       "      <td>1</td>\n",
       "      <td>2</td>\n",
       "      <td>105.65</td>\n",
       "      <td>5683.46</td>\n",
       "      <td>0</td>\n",
       "      <td>6</td>\n",
       "    </tr>\n",
       "  </tbody>\n",
       "</table>\n",
       "<p>7032 rows × 22 columns</p>\n",
       "</div>"
      ],
      "text/plain": [
       "      customerID  gender  SeniorCitizen  Partner  Dependents  tenure  \\\n",
       "0     7590-VHVEG       1              0        1           0       1   \n",
       "1     5575-GNVDE       0              0        0           0      34   \n",
       "2     3668-QPYBK       0              0        0           0       2   \n",
       "3     7795-CFOCW       0              0        0           0      45   \n",
       "4     9237-HQITU       1              0        0           0       2   \n",
       "...          ...     ...            ...      ...         ...     ...   \n",
       "7038  6840-RESVB       0              0        1           1      24   \n",
       "7039  2234-XADUH       1              0        1           1      72   \n",
       "7040  4801-JZAZL       1              0        1           1      11   \n",
       "7041  8361-LTMKD       0              0        1           0       4   \n",
       "7042  3186-AJIEK       0              0        0           0      66   \n",
       "\n",
       "      PhoneService  MultipleLines  InternetService  OnlineSecurity  \\\n",
       "0                0              0                1               0   \n",
       "1                1              0                1               1   \n",
       "2                1              0                1               1   \n",
       "3                0              0                1               1   \n",
       "4                1              0                2               0   \n",
       "...            ...            ...              ...             ...   \n",
       "7038             1              1                1               1   \n",
       "7039             1              1                2               0   \n",
       "7040             0              0                1               1   \n",
       "7041             1              1                2               0   \n",
       "7042             1              0                2               1   \n",
       "\n",
       "      OnlineBackup  DeviceProtection  TechSupport  StreamingTV  \\\n",
       "0                1                 0            0            0   \n",
       "1                0                 1            0            0   \n",
       "2                1                 0            0            0   \n",
       "3                0                 1            1            0   \n",
       "4                0                 0            0            0   \n",
       "...            ...               ...          ...          ...   \n",
       "7038             0                 1            1            1   \n",
       "7039             1                 1            0            1   \n",
       "7040             0                 0            0            0   \n",
       "7041             0                 0            0            0   \n",
       "7042             0                 1            1            1   \n",
       "\n",
       "      StreamingMovies  Contract  PaperlessBilling  PaymentMethod  \\\n",
       "0                   0         0                 1              0   \n",
       "1                   0         0                 0              1   \n",
       "2                   0         0                 1              1   \n",
       "3                   0         0                 0              2   \n",
       "4                   0         0                 1              0   \n",
       "...               ...       ...               ...            ...   \n",
       "7038                1         0                 1              1   \n",
       "7039                1         0                 1              3   \n",
       "7040                0         0                 1              0   \n",
       "7041                0         0                 1              1   \n",
       "7042                1         0                 1              2   \n",
       "\n",
       "      MonthlyCharges  TotalCharges  Churn  tenure_group  \n",
       "0              29.85         29.85      0             1  \n",
       "1              56.95       1889.50      0             3  \n",
       "2              53.85        108.15      1             1  \n",
       "3              42.30       1840.75      0             4  \n",
       "4              70.70        151.65      1             1  \n",
       "...              ...           ...    ...           ...  \n",
       "7038           84.80       1990.50      0             2  \n",
       "7039          103.20       5683.46      0             6  \n",
       "7040           29.60        346.45      0             1  \n",
       "7041           74.40        306.60      1             1  \n",
       "7042          105.65       5683.46      0             6  \n",
       "\n",
       "[7032 rows x 22 columns]"
      ]
     },
     "execution_count": 76,
     "metadata": {},
     "output_type": "execute_result"
    }
   ],
   "source": [
    "df"
   ]
  },
  {
   "cell_type": "code",
   "execution_count": 77,
   "metadata": {},
   "outputs": [],
   "source": [
    "df=df.drop(['customerID','tenure'],axis=1)"
   ]
  },
  {
   "cell_type": "code",
   "execution_count": 78,
   "metadata": {},
   "outputs": [
    {
     "data": {
      "text/plain": [
       "(7032, 20)"
      ]
     },
     "execution_count": 78,
     "metadata": {},
     "output_type": "execute_result"
    }
   ],
   "source": [
    "df.shape"
   ]
  },
  {
   "cell_type": "code",
   "execution_count": 79,
   "metadata": {},
   "outputs": [
    {
     "data": {
      "text/plain": [
       "<AxesSubplot:>"
      ]
     },
     "execution_count": 79,
     "metadata": {},
     "output_type": "execute_result"
    },
    {
     "data": {
      "image/png": "[encoded data removed]",
      "text/plain": [
       "<Figure size 1008x576 with 2 Axes>"
      ]
     },
     "metadata": {
      "needs_background": "light"
     },
     "output_type": "display_data"
    }
   ],
   "source": [
    "plt.figure(figsize=(14,8))\n",
    "sns.heatmap(df.corr(),annot=True)"
   ]
  },
  {
   "cell_type": "code",
   "execution_count": 80,
   "metadata": {},
   "outputs": [],
   "source": [
    "df=df.drop(['SeniorCitizen','Contract'],axis=1)"
   ]
  },
  {
   "cell_type": "code",
   "execution_count": 81,
   "metadata": {},
   "outputs": [
    {
     "data": {
      "text/html": [
       "<div>\n",
       "<style scoped>\n",
       "    .dataframe tbody tr th:only-of-type {\n",
       "        vertical-align: middle;\n",
       "    }\n",
       "\n",
       "    .dataframe tbody tr th {\n",
       "        vertical-align: top;\n",
       "    }\n",
       "\n",
       "    .dataframe thead th {\n",
       "        text-align: right;\n",
       "    }\n",
       "</style>\n",
       "<table border=\"1\" class=\"dataframe\">\n",
       "  <thead>\n",
       "    <tr style=\"text-align: right;\">\n",
       "      <th></th>\n",
       "      <th>gender</th>\n",
       "      <th>Partner</th>\n",
       "      <th>Dependents</th>\n",
       "      <th>PhoneService</th>\n",
       "      <th>MultipleLines</th>\n",
       "      <th>InternetService</th>\n",
       "      <th>OnlineSecurity</th>\n",
       "      <th>OnlineBackup</th>\n",
       "      <th>DeviceProtection</th>\n",
       "      <th>TechSupport</th>\n",
       "      <th>StreamingTV</th>\n",
       "      <th>StreamingMovies</th>\n",
       "      <th>PaperlessBilling</th>\n",
       "      <th>PaymentMethod</th>\n",
       "      <th>MonthlyCharges</th>\n",
       "      <th>TotalCharges</th>\n",
       "      <th>Churn</th>\n",
       "      <th>tenure_group</th>\n",
       "    </tr>\n",
       "  </thead>\n",
       "  <tbody>\n",
       "    <tr>\n",
       "      <th>0</th>\n",
       "      <td>1</td>\n",
       "      <td>1</td>\n",
       "      <td>0</td>\n",
       "      <td>0</td>\n",
       "      <td>0</td>\n",
       "      <td>1</td>\n",
       "      <td>0</td>\n",
       "      <td>1</td>\n",
       "      <td>0</td>\n",
       "      <td>0</td>\n",
       "      <td>0</td>\n",
       "      <td>0</td>\n",
       "      <td>1</td>\n",
       "      <td>0</td>\n",
       "      <td>29.85</td>\n",
       "      <td>29.85</td>\n",
       "      <td>0</td>\n",
       "      <td>1</td>\n",
       "    </tr>\n",
       "    <tr>\n",
       "      <th>1</th>\n",
       "      <td>0</td>\n",
       "      <td>0</td>\n",
       "      <td>0</td>\n",
       "      <td>1</td>\n",
       "      <td>0</td>\n",
       "      <td>1</td>\n",
       "      <td>1</td>\n",
       "      <td>0</td>\n",
       "      <td>1</td>\n",
       "      <td>0</td>\n",
       "      <td>0</td>\n",
       "      <td>0</td>\n",
       "      <td>0</td>\n",
       "      <td>1</td>\n",
       "      <td>56.95</td>\n",
       "      <td>1889.50</td>\n",
       "      <td>0</td>\n",
       "      <td>3</td>\n",
       "    </tr>\n",
       "    <tr>\n",
       "      <th>2</th>\n",
       "      <td>0</td>\n",
       "      <td>0</td>\n",
       "      <td>0</td>\n",
       "      <td>1</td>\n",
       "      <td>0</td>\n",
       "      <td>1</td>\n",
       "      <td>1</td>\n",
       "      <td>1</td>\n",
       "      <td>0</td>\n",
       "      <td>0</td>\n",
       "      <td>0</td>\n",
       "      <td>0</td>\n",
       "      <td>1</td>\n",
       "      <td>1</td>\n",
       "      <td>53.85</td>\n",
       "      <td>108.15</td>\n",
       "      <td>1</td>\n",
       "      <td>1</td>\n",
       "    </tr>\n",
       "    <tr>\n",
       "      <th>3</th>\n",
       "      <td>0</td>\n",
       "      <td>0</td>\n",
       "      <td>0</td>\n",
       "      <td>0</td>\n",
       "      <td>0</td>\n",
       "      <td>1</td>\n",
       "      <td>1</td>\n",
       "      <td>0</td>\n",
       "      <td>1</td>\n",
       "      <td>1</td>\n",
       "      <td>0</td>\n",
       "      <td>0</td>\n",
       "      <td>0</td>\n",
       "      <td>2</td>\n",
       "      <td>42.30</td>\n",
       "      <td>1840.75</td>\n",
       "      <td>0</td>\n",
       "      <td>4</td>\n",
       "    </tr>\n",
       "    <tr>\n",
       "      <th>4</th>\n",
       "      <td>1</td>\n",
       "      <td>0</td>\n",
       "      <td>0</td>\n",
       "      <td>1</td>\n",
       "      <td>0</td>\n",
       "      <td>2</td>\n",
       "      <td>0</td>\n",
       "      <td>0</td>\n",
       "      <td>0</td>\n",
       "      <td>0</td>\n",
       "      <td>0</td>\n",
       "      <td>0</td>\n",
       "      <td>1</td>\n",
       "      <td>0</td>\n",
       "      <td>70.70</td>\n",
       "      <td>151.65</td>\n",
       "      <td>1</td>\n",
       "      <td>1</td>\n",
       "    </tr>\n",
       "    <tr>\n",
       "      <th>...</th>\n",
       "      <td>...</td>\n",
       "      <td>...</td>\n",
       "      <td>...</td>\n",
       "      <td>...</td>\n",
       "      <td>...</td>\n",
       "      <td>...</td>\n",
       "      <td>...</td>\n",
       "      <td>...</td>\n",
       "      <td>...</td>\n",
       "      <td>...</td>\n",
       "      <td>...</td>\n",
       "      <td>...</td>\n",
       "      <td>...</td>\n",
       "      <td>...</td>\n",
       "      <td>...</td>\n",
       "      <td>...</td>\n",
       "      <td>...</td>\n",
       "      <td>...</td>\n",
       "    </tr>\n",
       "    <tr>\n",
       "      <th>7038</th>\n",
       "      <td>0</td>\n",
       "      <td>1</td>\n",
       "      <td>1</td>\n",
       "      <td>1</td>\n",
       "      <td>1</td>\n",
       "      <td>1</td>\n",
       "      <td>1</td>\n",
       "      <td>0</td>\n",
       "      <td>1</td>\n",
       "      <td>1</td>\n",
       "      <td>1</td>\n",
       "      <td>1</td>\n",
       "      <td>1</td>\n",
       "      <td>1</td>\n",
       "      <td>84.80</td>\n",
       "      <td>1990.50</td>\n",
       "      <td>0</td>\n",
       "      <td>2</td>\n",
       "    </tr>\n",
       "    <tr>\n",
       "      <th>7039</th>\n",
       "      <td>1</td>\n",
       "      <td>1</td>\n",
       "      <td>1</td>\n",
       "      <td>1</td>\n",
       "      <td>1</td>\n",
       "      <td>2</td>\n",
       "      <td>0</td>\n",
       "      <td>1</td>\n",
       "      <td>1</td>\n",
       "      <td>0</td>\n",
       "      <td>1</td>\n",
       "      <td>1</td>\n",
       "      <td>1</td>\n",
       "      <td>3</td>\n",
       "      <td>103.20</td>\n",
       "      <td>5683.46</td>\n",
       "      <td>0</td>\n",
       "      <td>6</td>\n",
       "    </tr>\n",
       "    <tr>\n",
       "      <th>7040</th>\n",
       "      <td>1</td>\n",
       "      <td>1</td>\n",
       "      <td>1</td>\n",
       "      <td>0</td>\n",
       "      <td>0</td>\n",
       "      <td>1</td>\n",
       "      <td>1</td>\n",
       "      <td>0</td>\n",
       "      <td>0</td>\n",
       "      <td>0</td>\n",
       "      <td>0</td>\n",
       "      <td>0</td>\n",
       "      <td>1</td>\n",
       "      <td>0</td>\n",
       "      <td>29.60</td>\n",
       "      <td>346.45</td>\n",
       "      <td>0</td>\n",
       "      <td>1</td>\n",
       "    </tr>\n",
       "    <tr>\n",
       "      <th>7041</th>\n",
       "      <td>0</td>\n",
       "      <td>1</td>\n",
       "      <td>0</td>\n",
       "      <td>1</td>\n",
       "      <td>1</td>\n",
       "      <td>2</td>\n",
       "      <td>0</td>\n",
       "      <td>0</td>\n",
       "      <td>0</td>\n",
       "      <td>0</td>\n",
       "      <td>0</td>\n",
       "      <td>0</td>\n",
       "      <td>1</td>\n",
       "      <td>1</td>\n",
       "      <td>74.40</td>\n",
       "      <td>306.60</td>\n",
       "      <td>1</td>\n",
       "      <td>1</td>\n",
       "    </tr>\n",
       "    <tr>\n",
       "      <th>7042</th>\n",
       "      <td>0</td>\n",
       "      <td>0</td>\n",
       "      <td>0</td>\n",
       "      <td>1</td>\n",
       "      <td>0</td>\n",
       "      <td>2</td>\n",
       "      <td>1</td>\n",
       "      <td>0</td>\n",
       "      <td>1</td>\n",
       "      <td>1</td>\n",
       "      <td>1</td>\n",
       "      <td>1</td>\n",
       "      <td>1</td>\n",
       "      <td>2</td>\n",
       "      <td>105.65</td>\n",
       "      <td>5683.46</td>\n",
       "      <td>0</td>\n",
       "      <td>6</td>\n",
       "    </tr>\n",
       "  </tbody>\n",
       "</table>\n",
       "<p>7032 rows × 18 columns</p>\n",
       "</div>"
      ],
      "text/plain": [
       "      gender  Partner  Dependents  PhoneService  MultipleLines  \\\n",
       "0          1        1           0             0              0   \n",
       "1          0        0           0             1              0   \n",
       "2          0        0           0             1              0   \n",
       "3          0        0           0             0              0   \n",
       "4          1        0           0             1              0   \n",
       "...      ...      ...         ...           ...            ...   \n",
       "7038       0        1           1             1              1   \n",
       "7039       1        1           1             1              1   \n",
       "7040       1        1           1             0              0   \n",
       "7041       0        1           0             1              1   \n",
       "7042       0        0           0             1              0   \n",
       "\n",
       "      InternetService  OnlineSecurity  OnlineBackup  DeviceProtection  \\\n",
       "0                   1               0             1                 0   \n",
       "1                   1               1             0                 1   \n",
       "2                   1               1             1                 0   \n",
       "3                   1               1             0                 1   \n",
       "4                   2               0             0                 0   \n",
       "...               ...             ...           ...               ...   \n",
       "7038                1               1             0                 1   \n",
       "7039                2               0             1                 1   \n",
       "7040                1               1             0                 0   \n",
       "7041                2               0             0                 0   \n",
       "7042                2               1             0                 1   \n",
       "\n",
       "      TechSupport  StreamingTV  StreamingMovies  PaperlessBilling  \\\n",
       "0               0            0                0                 1   \n",
       "1               0            0                0                 0   \n",
       "2               0            0                0                 1   \n",
       "3               1            0                0                 0   \n",
       "4               0            0                0                 1   \n",
       "...           ...          ...              ...               ...   \n",
       "7038            1            1                1                 1   \n",
       "7039            0            1                1                 1   \n",
       "7040            0            0                0                 1   \n",
       "7041            0            0                0                 1   \n",
       "7042            1            1                1                 1   \n",
       "\n",
       "      PaymentMethod  MonthlyCharges  TotalCharges  Churn  tenure_group  \n",
       "0                 0           29.85         29.85      0             1  \n",
       "1                 1           56.95       1889.50      0             3  \n",
       "2                 1           53.85        108.15      1             1  \n",
       "3                 2           42.30       1840.75      0             4  \n",
       "4                 0           70.70        151.65      1             1  \n",
       "...             ...             ...           ...    ...           ...  \n",
       "7038              1           84.80       1990.50      0             2  \n",
       "7039              3          103.20       5683.46      0             6  \n",
       "7040              0           29.60        346.45      0             1  \n",
       "7041              1           74.40        306.60      1             1  \n",
       "7042              2          105.65       5683.46      0             6  \n",
       "\n",
       "[7032 rows x 18 columns]"
      ]
     },
     "execution_count": 81,
     "metadata": {},
     "output_type": "execute_result"
    }
   ],
   "source": [
    "df"
   ]
  },
  {
   "cell_type": "markdown",
   "metadata": {},
   "source": [
    "### dividing traget and features"
   ]
  },
  {
   "cell_type": "code",
   "execution_count": 82,
   "metadata": {},
   "outputs": [],
   "source": [
    "x=df.drop('Churn',axis=1)\n",
    "y=df['Churn']"
   ]
  },
  {
   "cell_type": "code",
   "execution_count": 83,
   "metadata": {},
   "outputs": [
    {
     "data": {
      "image/png": "[encoded data removed]",
      "text/plain": [
       "<Figure size 432x288 with 1 Axes>"
      ]
     },
     "metadata": {
      "needs_background": "light"
     },
     "output_type": "display_data"
    },
    {
     "data": {
      "text/plain": [
       "0    5163\n",
       "1    1869\n",
       "Name: Churn, dtype: int64"
      ]
     },
     "execution_count": 83,
     "metadata": {},
     "output_type": "execute_result"
    }
   ],
   "source": [
    "y.hist(grid=True,color='seagreen')\n",
    "plt.title(\"0 and 1\")\n",
    "plt.show()\n",
    "y.value_counts()"
   ]
  },
  {
   "cell_type": "markdown",
   "metadata": {},
   "source": [
    "###  Resampling"
   ]
  },
  {
   "cell_type": "code",
   "execution_count": 84,
   "metadata": {},
   "outputs": [],
   "source": [
    "from imblearn.under_sampling import RandomUnderSampler\n",
    "us=RandomUnderSampler()\n",
    "x_res,y_res=us.fit_resample(x,y)"
   ]
  },
  {
   "cell_type": "code",
   "execution_count": 85,
   "metadata": {},
   "outputs": [
    {
     "data": {
      "image/png": "[encoded data removed]",
      "text/plain": [
       "<Figure size 432x288 with 1 Axes>"
      ]
     },
     "metadata": {
      "needs_background": "light"
     },
     "output_type": "display_data"
    }
   ],
   "source": [
    "y_res.hist(grid=True,color='olive')\n",
    "plt.title(\"0 and 1\")\n",
    "plt.show()"
   ]
  },
  {
   "cell_type": "markdown",
   "metadata": {},
   "source": [
    "resampled the dataframe to balance the data"
   ]
  },
  {
   "cell_type": "markdown",
   "metadata": {},
   "source": [
    "##  train_test_split"
   ]
  },
  {
   "cell_type": "code",
   "execution_count": 86,
   "metadata": {},
   "outputs": [],
   "source": [
    "x_train,x_test,y_train,y_test=train_test_split(x_res,y_res,test_size=0.30,random_state=50)"
   ]
  },
  {
   "cell_type": "code",
   "execution_count": 87,
   "metadata": {},
   "outputs": [
    {
     "data": {
      "text/plain": [
       "(2616, 17)"
      ]
     },
     "execution_count": 87,
     "metadata": {},
     "output_type": "execute_result"
    }
   ],
   "source": [
    "x_train.shape"
   ]
  },
  {
   "cell_type": "code",
   "execution_count": 88,
   "metadata": {},
   "outputs": [
    {
     "data": {
      "text/plain": [
       "(1122, 17)"
      ]
     },
     "execution_count": 88,
     "metadata": {},
     "output_type": "execute_result"
    }
   ],
   "source": [
    "x_test.shape"
   ]
  },
  {
   "cell_type": "code",
   "execution_count": 89,
   "metadata": {},
   "outputs": [
    {
     "data": {
      "text/plain": [
       "(2616,)"
      ]
     },
     "execution_count": 89,
     "metadata": {},
     "output_type": "execute_result"
    }
   ],
   "source": [
    "y_train.shape"
   ]
  },
  {
   "cell_type": "code",
   "execution_count": 90,
   "metadata": {},
   "outputs": [
    {
     "data": {
      "text/plain": [
       "(1122,)"
      ]
     },
     "execution_count": 90,
     "metadata": {},
     "output_type": "execute_result"
    }
   ],
   "source": [
    "y_test.shape"
   ]
  },
  {
   "cell_type": "markdown",
   "metadata": {},
   "source": [
    "## applying Machine Learning Algorithms"
   ]
  },
  {
   "cell_type": "code",
   "execution_count": 91,
   "metadata": {},
   "outputs": [],
   "source": [
    "model=[LogisticRegression(),DecisionTreeClassifier(),\n",
    "       RandomForestClassifier(),SVC(),AdaBoostClassifier(),\n",
    "       GradientBoostingClassifier(),KNeighborsClassifier() ]"
   ]
  },
  {
   "cell_type": "code",
   "execution_count": 93,
   "metadata": {
    "scrolled": false
   },
   "outputs": [
    {
     "name": "stdout",
     "output_type": "stream",
     "text": [
      "model name: LogisticRegression()\n",
      "accuracy score: 0.749554367201426\n",
      "confusion matrix: [[411 145]\n",
      " [136 430]]\n",
      "classification report:               precision    recall  f1-score   support\n",
      "\n",
      "           0       0.75      0.74      0.75       556\n",
      "           1       0.75      0.76      0.75       566\n",
      "\n",
      "    accuracy                           0.75      1122\n",
      "   macro avg       0.75      0.75      0.75      1122\n",
      "weighted avg       0.75      0.75      0.75      1122\n",
      "\n",
      "roc_auc_score: 0.7494629737905789\n",
      "\n",
      "Cross validation score:\n",
      "cross validation score 0.7976374983444898\n",
      "------------------------------------------------------------------------------\n",
      "model name: DecisionTreeClassifier()\n",
      "accuracy score: 0.6506238859180036\n",
      "confusion matrix: [[365 191]\n",
      " [201 365]]\n",
      "classification report:               precision    recall  f1-score   support\n",
      "\n",
      "           0       0.64      0.66      0.65       556\n",
      "           1       0.66      0.64      0.65       566\n",
      "\n",
      "    accuracy                           0.65      1122\n",
      "   macro avg       0.65      0.65      0.65      1122\n",
      "weighted avg       0.65      0.65      0.65      1122\n",
      "\n",
      "roc_auc_score: 0.6506755726161122\n",
      "\n",
      "Cross validation score:\n",
      "cross validation score 0.7195649470590555\n",
      "------------------------------------------------------------------------------\n",
      "model name: RandomForestClassifier()\n",
      "accuracy score: 0.7272727272727273\n",
      "confusion matrix: [[394 162]\n",
      " [144 422]]\n",
      "classification report:               precision    recall  f1-score   support\n",
      "\n",
      "           0       0.73      0.71      0.72       556\n",
      "           1       0.72      0.75      0.73       566\n",
      "\n",
      "    accuracy                           0.73      1122\n",
      "   macro avg       0.73      0.73      0.73      1122\n",
      "weighted avg       0.73      0.73      0.73      1122\n",
      "\n",
      "roc_auc_score: 0.7271080661972189\n",
      "\n",
      "Cross validation score:\n",
      "cross validation score 0.7837004774946645\n",
      "------------------------------------------------------------------------------\n",
      "model name: SVC()\n",
      "accuracy score: 0.624777183600713\n",
      "confusion matrix: [[400 156]\n",
      " [265 301]]\n",
      "classification report:               precision    recall  f1-score   support\n",
      "\n",
      "           0       0.60      0.72      0.66       556\n",
      "           1       0.66      0.53      0.59       566\n",
      "\n",
      "    accuracy                           0.62      1122\n",
      "   macro avg       0.63      0.63      0.62      1122\n",
      "weighted avg       0.63      0.62      0.62      1122\n",
      "\n",
      "roc_auc_score: 0.6256132902864987\n",
      "\n",
      "Cross validation score:\n",
      "cross validation score 0.7342150252598014\n",
      "------------------------------------------------------------------------------\n",
      "model name: AdaBoostClassifier()\n",
      "accuracy score: 0.7513368983957219\n",
      "confusion matrix: [[398 158]\n",
      " [121 445]]\n",
      "classification report:               precision    recall  f1-score   support\n",
      "\n",
      "           0       0.77      0.72      0.74       556\n",
      "           1       0.74      0.79      0.76       566\n",
      "\n",
      "    accuracy                           0.75      1122\n",
      "   macro avg       0.75      0.75      0.75      1122\n",
      "weighted avg       0.75      0.75      0.75      1122\n",
      "\n",
      "roc_auc_score: 0.7510232097007906\n",
      "\n",
      "Cross validation score:\n",
      "cross validation score 0.7989181303399685\n",
      "------------------------------------------------------------------------------\n",
      "model name: GradientBoostingClassifier()\n",
      "accuracy score: 0.7433155080213903\n",
      "confusion matrix: [[405 151]\n",
      " [137 429]]\n",
      "classification report:               precision    recall  f1-score   support\n",
      "\n",
      "           0       0.75      0.73      0.74       556\n",
      "           1       0.74      0.76      0.75       566\n",
      "\n",
      "    accuracy                           0.74      1122\n",
      "   macro avg       0.74      0.74      0.74      1122\n",
      "weighted avg       0.74      0.74      0.74      1122\n",
      "\n",
      "roc_auc_score: 0.7431838981111931\n",
      "\n",
      "Cross validation score:\n",
      "cross validation score 0.8027568922305764\n",
      "------------------------------------------------------------------------------\n",
      "model name: KNeighborsClassifier()\n",
      "accuracy score: 0.6916221033868093\n",
      "confusion matrix: [[379 177]\n",
      " [169 397]]\n",
      "classification report:               precision    recall  f1-score   support\n",
      "\n",
      "           0       0.69      0.68      0.69       556\n",
      "           1       0.69      0.70      0.70       566\n",
      "\n",
      "    accuracy                           0.69      1122\n",
      "   macro avg       0.69      0.69      0.69      1122\n",
      "weighted avg       0.69      0.69      0.69      1122\n",
      "\n",
      "roc_auc_score: 0.6915340519104152\n",
      "\n",
      "Cross validation score:\n",
      "cross validation score 0.7588158577160934\n",
      "------------------------------------------------------------------------------\n"
     ]
    }
   ],
   "source": [
    "for m in model:\n",
    "    print('model name:',m)\n",
    "    m.fit(x_train,y_train)\n",
    "    pred=m.predict(x_test)\n",
    "    print(\"accuracy score:\",accuracy_score(y_test,pred))\n",
    "    print(\"confusion matrix:\",confusion_matrix(y_test,pred))\n",
    "    print(\"classification report:\",classification_report(y_test,pred))\n",
    "    print(\"roc_auc_score:\",roc_auc_score(y_test,m.predict(x_test)))\n",
    "    print()\n",
    "    print(\"Cross validation score:\")\n",
    "    scr=cross_val_score(m,x,y,cv=5)\n",
    "    print('cross validation score',scr.mean())\n",
    "    print('------------------------------------------------------------------------------')"
   ]
  },
  {
   "cell_type": "markdown",
   "metadata": {},
   "source": [
    "after applying different Machine Learning Algorithms we can conclude AdaBoostClassifier is our best algorithm"
   ]
  },
  {
   "cell_type": "markdown",
   "metadata": {},
   "source": [
    "## Hyper Parameter Tuning "
   ]
  },
  {
   "cell_type": "code",
   "execution_count": 98,
   "metadata": {},
   "outputs": [
    {
     "name": "stdout",
     "output_type": "stream",
     "text": [
      "Fitting 5 folds for each of 225 candidates, totalling 1125 fits\n"
     ]
    },
    {
     "data": {
      "text/plain": [
       "GridSearchCV(estimator=AdaBoostClassifier(base_estimator=DecisionTreeClassifier()),\n",
       "             n_jobs=-1,\n",
       "             param_grid={'base_estimator__max_depth': [2, 4, 6, 8, 10],\n",
       "                         'base_estimator__min_samples_leaf': [2, 3, 4],\n",
       "                         'learning_rate': [0.01, 0.1, 1],\n",
       "                         'n_estimators': [100, 200, 300, 400, 500]},\n",
       "             scoring='f1', verbose=3)"
      ]
     },
     "execution_count": 98,
     "metadata": {},
     "output_type": "execute_result"
    }
   ],
   "source": [
    "ABC = AdaBoostClassifier(base_estimator=DecisionTreeClassifier())\n",
    "\n",
    "parameters = {'base_estimator__max_depth':[i for i in range(2,11,2)],\n",
    "              'base_estimator__min_samples_leaf':[2,3,4],\n",
    "              'n_estimators':[100,200,300,400,500],\n",
    "              'learning_rate':[0.01,0.1,1]}\n",
    "\n",
    "gcv = GridSearchCV(ABC, parameters,verbose=3,scoring='f1',n_jobs=-1)\n",
    "gcv.fit(x_train,y_train)"
   ]
  },
  {
   "cell_type": "code",
   "execution_count": 99,
   "metadata": {},
   "outputs": [
    {
     "data": {
      "text/plain": [
       "{'base_estimator__max_depth': 2,\n",
       " 'base_estimator__min_samples_leaf': 2,\n",
       " 'learning_rate': 0.01,\n",
       " 'n_estimators': 300}"
      ]
     },
     "execution_count": 99,
     "metadata": {},
     "output_type": "execute_result"
    }
   ],
   "source": [
    "gcv.best_params_"
   ]
  },
  {
   "cell_type": "code",
   "execution_count": 100,
   "metadata": {},
   "outputs": [],
   "source": [
    "gcv_pred=gcv.predict(x_test)"
   ]
  },
  {
   "cell_type": "code",
   "execution_count": 101,
   "metadata": {},
   "outputs": [
    {
     "name": "stdout",
     "output_type": "stream",
     "text": [
      "accuracy score: 0.750445632798574\n",
      "roc_auc_score: 0.7502033708722068\n"
     ]
    }
   ],
   "source": [
    "print(\"accuracy score:\",accuracy_score(y_test,gcv_pred))\n",
    "print(\"roc_auc_score:\",roc_auc_score(y_test,gcv_pred))"
   ]
  },
  {
   "cell_type": "code",
   "execution_count": 102,
   "metadata": {},
   "outputs": [],
   "source": [
    "logit_roc_auc1=roc_auc_score(y_test,gcv_pred)\n",
    "fpr,tpr,thresholds=roc_curve(y_test,gcv.predict_proba(x_test)[:,1])"
   ]
  },
  {
   "cell_type": "code",
   "execution_count": 103,
   "metadata": {},
   "outputs": [
    {
     "data": {
      "text/plain": [
       "array([0.        , 0.00359712, 0.00719424, 0.00719424, 0.00719424,\n",
       "       0.00719424, 0.00719424, 0.00719424, 0.00719424, 0.00719424,\n",
       "       0.00719424, 0.00719424, 0.00719424, 0.01258993, 0.01438849,\n",
       "       0.01978417, 0.02158273, 0.02697842, 0.02697842, 0.03057554,\n",
       "       0.03057554, 0.03057554, 0.03057554, 0.03057554, 0.03597122,\n",
       "       0.03956835, 0.03956835, 0.04496403, 0.04856115, 0.05215827,\n",
       "       0.05215827, 0.05395683, 0.05395683, 0.05755396, 0.05755396,\n",
       "       0.05755396, 0.05755396, 0.06115108, 0.06294964, 0.06294964,\n",
       "       0.06294964, 0.06834532, 0.07014388, 0.07014388, 0.07014388,\n",
       "       0.07014388, 0.07014388, 0.07194245, 0.07374101, 0.07374101,\n",
       "       0.07374101, 0.07553957, 0.07553957, 0.07553957, 0.07553957,\n",
       "       0.07733813, 0.07733813, 0.07733813, 0.07733813, 0.07913669,\n",
       "       0.08992806, 0.08992806, 0.09352518, 0.10071942, 0.10071942,\n",
       "       0.10251799, 0.10251799, 0.10431655, 0.10431655, 0.10791367,\n",
       "       0.10971223, 0.11330935, 0.11330935, 0.11510791, 0.11870504,\n",
       "       0.1205036 , 0.12410072, 0.12589928, 0.1294964 , 0.1294964 ,\n",
       "       0.13129496, 0.13129496, 0.13309353, 0.13489209, 0.14028777,\n",
       "       0.14568345, 0.15107914, 0.15647482, 0.15827338, 0.15827338,\n",
       "       0.1618705 , 0.1618705 , 0.16366906, 0.16726619, 0.16906475,\n",
       "       0.17086331, 0.17266187, 0.17625899, 0.17625899, 0.17805755,\n",
       "       0.17805755, 0.17985612, 0.17985612, 0.18165468, 0.18165468,\n",
       "       0.1852518 , 0.18705036, 0.18705036, 0.18884892, 0.18884892,\n",
       "       0.19244604, 0.19244604, 0.19604317, 0.19784173, 0.19784173,\n",
       "       0.19784173, 0.19784173, 0.19964029, 0.20143885, 0.20143885,\n",
       "       0.20503597, 0.20683453, 0.20683453, 0.21223022, 0.21582734,\n",
       "       0.21582734, 0.21942446, 0.22302158, 0.22302158, 0.22482014,\n",
       "       0.22482014, 0.22661871, 0.22661871, 0.22661871, 0.22841727,\n",
       "       0.22841727, 0.23201439, 0.23201439, 0.23381295, 0.23561151,\n",
       "       0.23920863, 0.23920863, 0.24100719, 0.24460432, 0.25      ,\n",
       "       0.25      , 0.25179856, 0.26079137, 0.26079137, 0.26079137,\n",
       "       0.26438849, 0.26618705, 0.26798561, 0.27338129, 0.27338129,\n",
       "       0.27697842, 0.28057554, 0.2823741 , 0.28417266, 0.28417266,\n",
       "       0.28776978, 0.32014388, 0.32194245, 0.32194245, 0.32374101,\n",
       "       0.32374101, 0.32553957, 0.32553957, 0.32733813, 0.32733813,\n",
       "       0.32913669, 0.33093525, 0.33093525, 0.33273381, 0.33273381,\n",
       "       0.33633094, 0.34172662, 0.34892086, 0.34892086, 0.35071942,\n",
       "       0.35251799, 0.35431655, 0.35611511, 0.35971223, 0.36510791,\n",
       "       0.36870504, 0.36870504, 0.37410072, 0.37410072, 0.37589928,\n",
       "       0.37769784, 0.37769784, 0.3794964 , 0.3794964 , 0.38309353,\n",
       "       0.38489209, 0.38848921, 0.39388489, 0.39388489, 0.39568345,\n",
       "       0.39928058, 0.39928058, 0.40107914, 0.40467626, 0.40647482,\n",
       "       0.40647482, 0.40827338, 0.4118705 , 0.41726619, 0.41726619,\n",
       "       0.41906475, 0.42625899, 0.42625899, 0.43345324, 0.43345324,\n",
       "       0.43705036, 0.43884892, 0.44064748, 0.45143885, 0.45683453,\n",
       "       0.45683453, 0.45863309, 0.46223022, 0.46942446, 0.47302158,\n",
       "       0.48561151, 0.49460432, 0.49640288, 0.49640288, 0.5       ,\n",
       "       0.5       , 0.50179856, 0.50539568, 0.50899281, 0.50899281,\n",
       "       0.51438849, 0.51618705, 0.52338129, 0.52697842, 0.53057554,\n",
       "       0.5323741 , 0.53597122, 0.53956835, 0.54316547, 0.54676259,\n",
       "       0.56115108, 0.5647482 , 0.56654676, 0.56654676, 0.56834532,\n",
       "       0.57733813, 0.57913669, 0.58273381, 0.58633094, 0.58992806,\n",
       "       0.59172662, 0.61151079, 0.61330935, 0.61510791, 0.61510791,\n",
       "       0.61690647, 0.62410072, 0.62589928, 0.6294964 , 0.63669065,\n",
       "       0.63669065, 0.63848921, 0.64568345, 0.65107914, 0.65467626,\n",
       "       0.65827338, 0.66007194, 0.6618705 , 0.6618705 , 0.66366906,\n",
       "       0.66726619, 0.67446043, 0.67625899, 0.67985612, 0.68705036,\n",
       "       0.69244604, 0.70143885, 0.70143885, 0.70503597, 0.70503597,\n",
       "       0.70683453, 0.71043165, 0.71402878, 0.71402878, 0.7176259 ,\n",
       "       0.72302158, 0.72302158, 0.72661871, 0.73201439, 0.73561151,\n",
       "       0.73920863, 0.74280576, 0.75539568, 0.77158273, 0.77517986,\n",
       "       0.78417266, 0.78417266, 0.78597122, 0.79316547, 0.79496403,\n",
       "       0.79856115, 0.79856115, 0.80215827, 0.80935252, 0.81294964,\n",
       "       0.81834532, 0.82014388, 0.82913669, 0.83093525, 0.83992806,\n",
       "       0.84172662, 0.84532374, 0.84532374, 0.8471223 , 0.85431655,\n",
       "       0.85791367, 0.86870504, 0.87589928, 0.88129496, 0.88669065,\n",
       "       0.89028777, 0.89208633, 0.89568345, 0.89748201, 0.90647482,\n",
       "       0.90827338, 0.91007194, 0.92805755, 0.93165468, 0.95143885,\n",
       "       0.95503597, 0.96402878, 0.9676259 , 0.97661871, 0.98021583,\n",
       "       0.99280576, 1.        ])"
      ]
     },
     "execution_count": 103,
     "metadata": {},
     "output_type": "execute_result"
    }
   ],
   "source": [
    "fpr"
   ]
  },
  {
   "cell_type": "code",
   "execution_count": 104,
   "metadata": {},
   "outputs": [
    {
     "data": {
      "text/plain": [
       "array([0.        , 0.04946996, 0.0565371 , 0.05830389, 0.06537102,\n",
       "       0.07067138, 0.07243816, 0.08833922, 0.09540636, 0.09893993,\n",
       "       0.10600707, 0.12190813, 0.12720848, 0.17314488, 0.17844523,\n",
       "       0.19257951, 0.19434629, 0.21731449, 0.21908127, 0.21908127,\n",
       "       0.22084806, 0.24028269, 0.24204947, 0.24911661, 0.26678445,\n",
       "       0.2844523 , 0.29151943, 0.31448763, 0.31625442, 0.32862191,\n",
       "       0.33215548, 0.33392226, 0.33745583, 0.35159011, 0.35335689,\n",
       "       0.35865724, 0.36219081, 0.36219081, 0.3639576 , 0.36749117,\n",
       "       0.38869258, 0.39222615, 0.39399293, 0.3975265 , 0.39929329,\n",
       "       0.40282686, 0.40636042, 0.40989399, 0.4204947 , 0.42402827,\n",
       "       0.42579505, 0.42932862, 0.43109541, 0.43462898, 0.43639576,\n",
       "       0.43992933, 0.44699647, 0.45053004, 0.45229682, 0.45229682,\n",
       "       0.48939929, 0.49646643, 0.49823322, 0.50176678, 0.50530035,\n",
       "       0.50883392, 0.51060071, 0.51060071, 0.51413428, 0.51413428,\n",
       "       0.51413428, 0.52826855, 0.53003534, 0.53003534, 0.53710247,\n",
       "       0.54240283, 0.55300353, 0.56360424, 0.56360424, 0.56537102,\n",
       "       0.57067138, 0.57420495, 0.57420495, 0.5795053 , 0.5795053 ,\n",
       "       0.59010601, 0.59540636, 0.60424028, 0.60600707, 0.60954064,\n",
       "       0.60954064, 0.61130742, 0.61130742, 0.61130742, 0.61130742,\n",
       "       0.6130742 , 0.61660777, 0.61837456, 0.62014134, 0.62367491,\n",
       "       0.63427562, 0.6360424 , 0.63780919, 0.64134276, 0.64310954,\n",
       "       0.64487633, 0.64487633, 0.64664311, 0.64664311, 0.64840989,\n",
       "       0.64840989, 0.65017668, 0.65371025, 0.65547703, 0.65724382,\n",
       "       0.66077739, 0.66254417, 0.66254417, 0.66431095, 0.66784452,\n",
       "       0.66784452, 0.67667845, 0.68021201, 0.69081272, 0.69081272,\n",
       "       0.69434629, 0.70141343, 0.70141343, 0.70318021, 0.704947  ,\n",
       "       0.70848057, 0.71024735, 0.71378092, 0.7155477 , 0.71731449,\n",
       "       0.71908127, 0.72261484, 0.72791519, 0.72968198, 0.72968198,\n",
       "       0.73144876, 0.73321555, 0.73321555, 0.73321555, 0.73498233,\n",
       "       0.7385159 , 0.7385159 , 0.74911661, 0.75088339, 0.75971731,\n",
       "       0.76678445, 0.76855124, 0.76855124, 0.77385159, 0.77738516,\n",
       "       0.77738516, 0.77738516, 0.77915194, 0.77915194, 0.78091873,\n",
       "       0.7844523 , 0.80388693, 0.80388693, 0.80565371, 0.80565371,\n",
       "       0.81095406, 0.81625442, 0.81978799, 0.81978799, 0.82155477,\n",
       "       0.82155477, 0.82332155, 0.82508834, 0.82508834, 0.82862191,\n",
       "       0.83038869, 0.83038869, 0.83392226, 0.83568905, 0.83568905,\n",
       "       0.83745583, 0.8409894 , 0.8409894 , 0.84452297, 0.84805654,\n",
       "       0.84982332, 0.85159011, 0.85335689, 0.85512367, 0.85512367,\n",
       "       0.85689046, 0.85865724, 0.86042403, 0.86219081, 0.8639576 ,\n",
       "       0.86749117, 0.87102473, 0.87102473, 0.8745583 , 0.87632509,\n",
       "       0.87632509, 0.87809187, 0.87985866, 0.87985866, 0.88339223,\n",
       "       0.8869258 , 0.8869258 , 0.89045936, 0.89045936, 0.90106007,\n",
       "       0.90282686, 0.90282686, 0.90459364, 0.90459364, 0.90636042,\n",
       "       0.90636042, 0.90636042, 0.90812721, 0.90989399, 0.90989399,\n",
       "       0.91166078, 0.91166078, 0.91342756, 0.91342756, 0.91342756,\n",
       "       0.91696113, 0.91872792, 0.91872792, 0.9204947 , 0.9204947 ,\n",
       "       0.92226148, 0.92226148, 0.92226148, 0.92226148, 0.92402827,\n",
       "       0.92402827, 0.92579505, 0.92932862, 0.92932862, 0.92932862,\n",
       "       0.93109541, 0.93462898, 0.93462898, 0.93462898, 0.93462898,\n",
       "       0.93992933, 0.93992933, 0.94169611, 0.94522968, 0.94522968,\n",
       "       0.94699647, 0.95053004, 0.95229682, 0.95229682, 0.9540636 ,\n",
       "       0.9540636 , 0.95583039, 0.95583039, 0.95759717, 0.95936396,\n",
       "       0.95936396, 0.96113074, 0.96113074, 0.96113074, 0.96113074,\n",
       "       0.96466431, 0.96466431, 0.96466431, 0.96466431, 0.96466431,\n",
       "       0.96466431, 0.9664311 , 0.9664311 , 0.96819788, 0.96819788,\n",
       "       0.96819788, 0.96819788, 0.96819788, 0.96819788, 0.96819788,\n",
       "       0.96819788, 0.96819788, 0.97173145, 0.97173145, 0.97349823,\n",
       "       0.97349823, 0.97526502, 0.97526502, 0.9770318 , 0.9770318 ,\n",
       "       0.9770318 , 0.97879859, 0.97879859, 0.97879859, 0.97879859,\n",
       "       0.98056537, 0.98056537, 0.98056537, 0.98056537, 0.98056537,\n",
       "       0.98233216, 0.98409894, 0.98586572, 0.98586572, 0.98586572,\n",
       "       0.98586572, 0.98763251, 0.98763251, 0.98763251, 0.98763251,\n",
       "       0.98763251, 0.98763251, 0.98763251, 0.98763251, 0.98939929,\n",
       "       0.98939929, 0.99116608, 0.99293286, 0.99293286, 0.99293286,\n",
       "       0.99469965, 0.99469965, 0.99469965, 0.99469965, 0.99469965,\n",
       "       0.99469965, 0.99469965, 0.99469965, 0.99469965, 0.99469965,\n",
       "       0.99469965, 0.99646643, 0.99823322, 0.99823322, 0.99823322,\n",
       "       0.99823322, 1.        , 1.        , 1.        , 1.        ,\n",
       "       1.        , 1.        ])"
      ]
     },
     "execution_count": 104,
     "metadata": {},
     "output_type": "execute_result"
    }
   ],
   "source": [
    "tpr"
   ]
  },
  {
   "cell_type": "code",
   "execution_count": 105,
   "metadata": {},
   "outputs": [
    {
     "data": {
      "text/plain": [
       "array([1.70080632, 0.70080632, 0.69041588, 0.68522728, 0.68431701,\n",
       "       0.68136168, 0.67319811, 0.67002476, 0.65908535, 0.62906777,\n",
       "       0.62808325, 0.62633564, 0.62534818, 0.62489004, 0.6238969 ,\n",
       "       0.62214562, 0.62145041, 0.62068946, 0.61815596, 0.61637099,\n",
       "       0.61541887, 0.61313916, 0.61202582, 0.61102403, 0.60777582,\n",
       "       0.60629933, 0.60523411, 0.60422613, 0.60289715, 0.602745  ,\n",
       "       0.59863113, 0.59860848, 0.59433166, 0.593351  , 0.59193015,\n",
       "       0.59144747, 0.59031342, 0.59001339, 0.58945339, 0.58881566,\n",
       "       0.58862984, 0.58674362, 0.58593136, 0.58524198, 0.58460182,\n",
       "       0.58448403, 0.58285809, 0.58183245, 0.58145753, 0.58032573,\n",
       "       0.57752709, 0.57651285, 0.57491177, 0.57416565, 0.57377833,\n",
       "       0.57313428, 0.5716193 , 0.5707791 , 0.57043775, 0.57037028,\n",
       "       0.56947819, 0.56852881, 0.56831017, 0.56796001, 0.56682309,\n",
       "       0.566791  , 0.56666813, 0.56598756, 0.56456869, 0.56255181,\n",
       "       0.56202409, 0.55847922, 0.55781504, 0.55775883, 0.55759879,\n",
       "       0.55677464, 0.55524665, 0.55505519, 0.55305233, 0.55222229,\n",
       "       0.55150243, 0.54923374, 0.54875849, 0.54867479, 0.5467201 ,\n",
       "       0.54634562, 0.54623013, 0.54527387, 0.54505934, 0.54495429,\n",
       "       0.54469552, 0.54387813, 0.54252515, 0.54175562, 0.53798663,\n",
       "       0.53774494, 0.5364478 , 0.536206  , 0.53604184, 0.53598535,\n",
       "       0.53484718, 0.53459895, 0.53418352, 0.53414711, 0.53276046,\n",
       "       0.53275997, 0.53272589, 0.53270392, 0.53223488, 0.53106348,\n",
       "       0.5299958 , 0.52985967, 0.52891235, 0.52845368, 0.52588095,\n",
       "       0.52571917, 0.52478245, 0.52433744, 0.52376072, 0.5227389 ,\n",
       "       0.52204996, 0.52179998, 0.52132173, 0.52116216, 0.51997355,\n",
       "       0.5198321 , 0.51961732, 0.51956203, 0.51916478, 0.51842842,\n",
       "       0.51761947, 0.51743091, 0.51711532, 0.5166528 , 0.51546294,\n",
       "       0.51543704, 0.51535908, 0.51498424, 0.51386539, 0.51381299,\n",
       "       0.51343808, 0.51324679, 0.51306521, 0.51289417, 0.512563  ,\n",
       "       0.51170034, 0.51118149, 0.50936407, 0.50896603, 0.50738457,\n",
       "       0.50587088, 0.50539181, 0.50432364, 0.50340422, 0.50275914,\n",
       "       0.50185685, 0.49947619, 0.49853119, 0.49845041, 0.49833802,\n",
       "       0.49786741, 0.49709615, 0.49698381, 0.49692703, 0.49573647,\n",
       "       0.49525059, 0.49485043, 0.49437344, 0.49401563, 0.49393201,\n",
       "       0.49325463, 0.49299595, 0.49277558, 0.49265836, 0.49179371,\n",
       "       0.49147329, 0.4908262 , 0.48992641, 0.48963556, 0.48915664,\n",
       "       0.48903099, 0.48769785, 0.48748444, 0.48699488, 0.4861515 ,\n",
       "       0.48544864, 0.48539592, 0.4840001 , 0.48344995, 0.48188368,\n",
       "       0.48117936, 0.48071497, 0.48033848, 0.48029196, 0.48006933,\n",
       "       0.48004796, 0.47911228, 0.47758551, 0.47679247, 0.47629287,\n",
       "       0.47584959, 0.47468776, 0.4741867 , 0.47330863, 0.47275983,\n",
       "       0.47217861, 0.471795  , 0.46964474, 0.4652158 , 0.46415286,\n",
       "       0.46356901, 0.46351253, 0.46281292, 0.46024417, 0.45875285,\n",
       "       0.45823472, 0.45821586, 0.4580679 , 0.45786595, 0.45461976,\n",
       "       0.45451853, 0.45095503, 0.45068992, 0.44928656, 0.44907111,\n",
       "       0.44582545, 0.44530441, 0.44504203, 0.44471263, 0.44380268,\n",
       "       0.44351384, 0.44315328, 0.4426865 , 0.44227535, 0.44221371,\n",
       "       0.44180222, 0.44162641, 0.44089671, 0.44013545, 0.44008435,\n",
       "       0.43590882, 0.43026874, 0.42875209, 0.42693795, 0.42588384,\n",
       "       0.42500729, 0.42241702, 0.42157344, 0.42103065, 0.42087659,\n",
       "       0.42043468, 0.42006484, 0.42000951, 0.41998613, 0.41936868,\n",
       "       0.4184379 , 0.41828134, 0.41781168, 0.41677603, 0.41661795,\n",
       "       0.41601004, 0.41263083, 0.41166956, 0.41113148, 0.40886384,\n",
       "       0.40822804, 0.40743841, 0.40525661, 0.40439924, 0.4020256 ,\n",
       "       0.40155979, 0.40149858, 0.40089552, 0.4005754 , 0.39960308,\n",
       "       0.39811899, 0.39748867, 0.39664682, 0.39645957, 0.39386897,\n",
       "       0.39375332, 0.38655991, 0.38648847, 0.38644558, 0.38610554,\n",
       "       0.38274808, 0.38273169, 0.38211026, 0.38061358, 0.3802768 ,\n",
       "       0.3788192 , 0.37791523, 0.37780374, 0.37494962, 0.37346403,\n",
       "       0.37219968, 0.37201686, 0.36010664, 0.35821263, 0.35582987,\n",
       "       0.35412602, 0.35350304, 0.35274631, 0.35133441, 0.34867229,\n",
       "       0.34745233, 0.34151703, 0.33983044, 0.33829916, 0.33311041,\n",
       "       0.33204652, 0.33138756, 0.33067514, 0.32769556, 0.32755383,\n",
       "       0.32633337, 0.32619195, 0.32310821, 0.32291496, 0.32244958,\n",
       "       0.3218104 , 0.32046101, 0.31835291, 0.31801215, 0.31480366,\n",
       "       0.31363849, 0.31249293, 0.31205619, 0.31072896, 0.30865155,\n",
       "       0.29655698, 0.29272296, 0.29144313, 0.29039548, 0.28912166,\n",
       "       0.28672218, 0.28545799, 0.27628655, 0.26320219, 0.26200362,\n",
       "       0.24441948, 0.24327819])"
      ]
     },
     "execution_count": 105,
     "metadata": {},
     "output_type": "execute_result"
    }
   ],
   "source": [
    "thresholds"
   ]
  },
  {
   "cell_type": "code",
   "execution_count": 106,
   "metadata": {},
   "outputs": [
    {
     "data": {
      "image/png": "[encoded data removed]",
      "text/plain": [
       "<Figure size 432x288 with 1 Axes>"
      ]
     },
     "metadata": {
      "needs_background": "light"
     },
     "output_type": "display_data"
    }
   ],
   "source": [
    "plt.figure()\n",
    "plt.plot(fpr,tpr,label='AdaBoostClassifier:(Sensitivity=%0.2f)'%logit_roc_auc1)\n",
    "plt.plot([0,1],[1,0],'r--')\n",
    "plt.xlabel('False Positive Rate')\n",
    "plt.ylabel('True Positive Rate')\n",
    "plt.title('Quality of red_wine')\n",
    "plt.legend(loc='lower right')\n",
    "plt.savefig('Log_ROC')\n",
    "plt.show()"
   ]
  },
  {
   "cell_type": "markdown",
   "metadata": {},
   "source": [
    "## Save the model"
   ]
  },
  {
   "cell_type": "code",
   "execution_count": 107,
   "metadata": {},
   "outputs": [
    {
     "data": {
      "text/plain": [
       "['Customer-Churn-Analysis-project.pkl']"
      ]
     },
     "execution_count": 107,
     "metadata": {},
     "output_type": "execute_result"
    }
   ],
   "source": [
    "import joblib\n",
    "joblib.dump(gcv,\"Customer-Churn-Analysis-project.pkl\")"
   ]
  },
  {
   "cell_type": "markdown",
   "metadata": {},
   "source": [
    "## Load the saved model"
   ]
  },
  {
   "cell_type": "code",
   "execution_count": 108,
   "metadata": {},
   "outputs": [],
   "source": [
    "model=joblib.load('Customer-Churn-Analysis-project.pkl')"
   ]
  },
  {
   "cell_type": "code",
   "execution_count": 109,
   "metadata": {},
   "outputs": [],
   "source": [
    "pred=model.predict(x_test)"
   ]
  },
  {
   "cell_type": "code",
   "execution_count": 110,
   "metadata": {},
   "outputs": [
    {
     "name": "stdout",
     "output_type": "stream",
     "text": [
      "accuracy score: 0.750445632798574\n"
     ]
    }
   ],
   "source": [
    "print(\"accuracy score:\",accuracy_score(y_test,gcv_pred))"
   ]
  },
  {
   "cell_type": "code",
   "execution_count": null,
   "metadata": {},
   "outputs": [],
   "source": []
  }
 ],
 "metadata": {
  "kernelspec": {
   "display_name": "Python 3",
   "language": "python",
   "name": "python3"
  },
  "language_info": {
   "codemirror_mode": {
    "name": "ipython",
    "version": 3
   },
   "file_extension": ".py",
   "mimetype": "text/x-python",
   "name": "python",
   "nbconvert_exporter": "python",
   "pygments_lexer": "ipython3",
   "version": "3.8.5"
  }
 },
 "nbformat": 4,
 "nbformat_minor": 4
}
